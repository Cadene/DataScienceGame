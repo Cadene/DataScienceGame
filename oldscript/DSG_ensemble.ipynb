{
 "cells": [
  {
   "cell_type": "markdown",
   "metadata": {},
   "source": [
    "# DSG: ENSEMBLE"
   ]
  },
  {
   "cell_type": "code",
   "execution_count": 1,
   "metadata": {
    "collapsed": false
   },
   "outputs": [
    {
     "name": "stdout",
     "output_type": "stream",
     "text": [
      "/home/arda/Documents/DSG\n"
     ]
    }
   ],
   "source": [
    "import numpy as np\n",
    "import pandas as pd\n",
    "import os\n",
    "\n",
    "from sklearn.pipeline import Pipeline, FeatureUnion\n",
    "from sklearn.grid_search import GridSearchCV\n",
    "from sklearn.feature_extraction.text import CountVectorizer, TfidfTransformer\n",
    "from sklearn.ensemble import AdaBoostClassifier, RandomForestClassifier, ExtraTreesClassifier, BaggingClassifier\n",
    "from sklearn.base import BaseEstimator, TransformerMixin\n",
    "from sklearn.metrics import confusion_matrix\n",
    "from sklearn.cross_validation import cross_val_score, train_test_split\n",
    "from sklearn.preprocessing import StandardScaler\n",
    "\n",
    "\n",
    "folder = os.getcwd() ; print folder"
   ]
  },
  {
   "cell_type": "code",
   "execution_count": 2,
   "metadata": {
    "collapsed": true
   },
   "outputs": [],
   "source": [
    "#pd_train = pd.io.pickle.read_pickle(folder + '/data_munged/pd_train_tagged')\n",
    "#pd_test = pd.io.pickle.read_pickle(folder + '/data_munged/pd_test_tagged')\n",
    "\n",
    "pd_train = pd.io.pickle.read_pickle(folder + '/data_munged/pd_train_munged')\n",
    "pd_test = pd.io.pickle.read_pickle(folder + '/data_munged/pd_test_munged')"
   ]
  },
  {
   "cell_type": "code",
   "execution_count": null,
   "metadata": {
    "collapsed": false
   },
   "outputs": [],
   "source": []
  },
  {
   "cell_type": "markdown",
   "metadata": {},
   "source": [
    "# Simple model"
   ]
  },
  {
   "cell_type": "code",
   "execution_count": 3,
   "metadata": {
    "collapsed": true
   },
   "outputs": [],
   "source": [
    "class ColumnSelector(BaseEstimator, TransformerMixin):\n",
    "    def __init__(self, key):\n",
    "        self.key = key\n",
    "\n",
    "    def fit(self, x, y=None):\n",
    "        return self\n",
    "\n",
    "    def transform(self, data_dict):\n",
    "        return data_dict[self.key].values\n",
    "    \n",
    "class DenseTransformer(TransformerMixin):\n",
    "\n",
    "    def transform(self, X, y=None, **fit_params):\n",
    "        return X.todense()\n",
    "\n",
    "    def fit_transform(self, X, y=None, **fit_params):\n",
    "        self.fit(X, y, **fit_params)\n",
    "        return self.transform(X)\n",
    "\n",
    "    def fit(self, X, y=None, **fit_params):\n",
    "        return self"
   ]
  },
  {
   "cell_type": "code",
   "execution_count": 4,
   "metadata": {
    "collapsed": false
   },
   "outputs": [],
   "source": [
    "extra = ExtraTreesClassifier(n_estimators=10, criterion='gini', max_depth=None, min_samples_split=2, min_samples_leaf=1,\n",
    "                     min_weight_fraction_leaf=0.0, max_features='auto', max_leaf_nodes=None,\n",
    "                     bootstrap=False, oob_score=False, n_jobs=1, random_state=None, verbose=0, \n",
    "                     warm_start=False, class_weight=None)\n",
    "\n",
    "bag = BaggingClassifier(base_estimator=None, n_estimators=10, max_samples=1.0, max_features=1.0, bootstrap=True,\n",
    "                  bootstrap_features=False, oob_score=False, n_jobs=1, random_state=None, verbose=0)\n",
    "\n",
    "ada = AdaBoostClassifier(base_estimator=None, n_estimators=200, learning_rate=0.3, algorithm='SAMME.R', \n",
    "                         random_state=None)\n",
    "\n",
    "rf= RandomForestClassifier(n_estimators=200, criterion='gini', max_depth=15, min_samples_split=2, min_samples_leaf=1,\n",
    "                       min_weight_fraction_leaf=0.0, max_features='auto', max_leaf_nodes=None, bootstrap=True, \n",
    "                       oob_score=False, n_jobs=-1, random_state=None, verbose=0, warm_start=False, \n",
    "                       class_weight=None)\n",
    "\n",
    "StdScl = StandardScaler(copy=True, with_mean=True, with_std=True)"
   ]
  },
  {
   "cell_type": "code",
   "execution_count": 9,
   "metadata": {
    "collapsed": false
   },
   "outputs": [],
   "source": [
    "Features = ['lenght', 'nb_caps_char','nb_caps_word', 'nb_?', 'nb_,','nb_!', 'nb_.', 'nb_;', 'nb_all', 'nb_,;','diversity']\n",
    "\n",
    "sentence_pipe = Pipeline([\n",
    "        ('selector', ColumnSelector(key=Features)),\n",
    "        #('StdScl', StdScl)\n",
    "    ])"
   ]
  },
  {
   "cell_type": "code",
   "execution_count": 10,
   "metadata": {
    "collapsed": true
   },
   "outputs": [],
   "source": [
    "X = sentence_pipe.fit_transform(pd_train)\n",
    "Y = pd_train['Author']\n",
    "\n",
    "X_test = sentence_pipe.transform(pd_test)"
   ]
  },
  {
   "cell_type": "code",
   "execution_count": 11,
   "metadata": {
    "collapsed": false
   },
   "outputs": [
    {
     "name": "stdout",
     "output_type": "stream",
     "text": [
      "[ 0.22425191  0.40636965  0.38004875  0.41076093  0.40421456] 0.365129158882 0.0712456272582\n"
     ]
    }
   ],
   "source": [
    "clf = svm\n",
    "scores = cross_val_score(clf, X,Y,scoring='accuracy',cv=5, n_jobs=-1)\n",
    "print scores,scores.mean(),scores.std()\n"
   ]
  },
  {
   "cell_type": "markdown",
   "metadata": {
    "collapsed": true
   },
   "source": [
    "# Grid search ensemble"
   ]
  },
  {
   "cell_type": "code",
   "execution_count": 179,
   "metadata": {
    "collapsed": false
   },
   "outputs": [],
   "source": [
    "Features = ['lenght', 'nb_caps_char','nb_caps_word', 'nb_?', 'nb_,','nb_!', 'nb_.', 'nb_;', 'nb_all', 'nb_,;','diversity']\n",
    "\n",
    "ada = AdaBoostClassifier(base_estimator=None, n_estimators=200, learning_rate=0.3, algorithm='SAMME.R', \n",
    "                         random_state=None)\n",
    "\n",
    "rf= RandomForestClassifier(n_estimators=200, criterion='gini', max_depth=6, min_samples_split=2, min_samples_leaf=1,\n",
    "                       min_weight_fraction_leaf=0.0, max_features='auto', max_leaf_nodes=None, bootstrap=True, \n",
    "                       oob_score=False, n_jobs=-1, random_state=None, verbose=0, warm_start=False, \n",
    "                       class_weight=None)\n",
    "\n",
    "extra = ExtraTreesClassifier(n_estimators=10, criterion='gini', max_depth=None, min_samples_split=2, min_samples_leaf=1,\n",
    "                     min_weight_fraction_leaf=0.0, max_features='auto', max_leaf_nodes=None,\n",
    "                     bootstrap=False, oob_score=False, n_jobs=1, random_state=None, verbose=0, \n",
    "                     warm_start=False, class_weight=None)\n",
    "\n",
    "clf = rf"
   ]
  },
  {
   "cell_type": "code",
   "execution_count": null,
   "metadata": {
    "collapsed": false
   },
   "outputs": [],
   "source": []
  },
  {
   "cell_type": "code",
   "execution_count": 180,
   "metadata": {
    "collapsed": false
   },
   "outputs": [
    {
     "data": {
      "text/plain": [
       "GridSearchCV(cv=5, error_score='raise',\n",
       "       estimator=Pipeline(steps=[('column', ColumnSelector(key=['lenght', 'nb_caps_char', 'nb_caps_word', 'nb_?', 'nb_,', 'nb_!', 'nb_.', 'nb_;', 'nb_all', 'nb_,;', 'diversity'])), ('clf', RandomForestClassifier(bootstrap=True, class_weight=None, criterion='gini',\n",
       "            max_depth=6, max_features='auto', max_leaf_nodes=..._jobs=-1,\n",
       "            oob_score=False, random_state=None, verbose=0,\n",
       "            warm_start=False))]),\n",
       "       fit_params={}, iid=True, loss_func=None, n_jobs=-1,\n",
       "       param_grid={'clf__min_samples_split': (2,), 'clf__max_depth': (14,), 'clf__min_samples_leaf': (3,), 'clf__n_estimators': (380, 390, 400, 410, 420)},\n",
       "       pre_dispatch='2*n_jobs', refit=True, score_func=None,\n",
       "       scoring='accuracy', verbose=0)"
      ]
     },
     "execution_count": 180,
     "metadata": {},
     "output_type": "execute_result"
    }
   ],
   "source": [
    "pipeline = Pipeline([\n",
    "    ('column', ColumnSelector(key=Features)),\n",
    "    #('StdScl', StdScl),\n",
    "    ('clf', clf)\n",
    "])\n",
    "\n",
    "parameters = {   \n",
    "    \n",
    "    #rf config\n",
    "    'clf__n_estimators': (380, 390, 400, 410, 420,),\n",
    "    'clf__max_depth': (14,),\n",
    "    'clf__min_samples_leaf': (3,),\n",
    "    'clf__min_samples_split': (2,),\n",
    "\n",
    "}\n",
    "\n",
    "grid = GridSearchCV(pipeline, parameters, scoring='accuracy', \n",
    "                   fit_params=None, n_jobs=-1, iid=True,\n",
    "                   refit=True,cv=5, verbose=0)\n",
    "\n",
    "grid.fit(pd_train,pd_train['Author'])"
   ]
  },
  {
   "cell_type": "code",
   "execution_count": 182,
   "metadata": {
    "collapsed": false
   },
   "outputs": [
    {
     "name": "stdout",
     "output_type": "stream",
     "text": [
      "{'clf__max_depth': 14, 'clf__min_samples_leaf': 3, 'clf__min_samples_split': 2, 'clf__n_estimators': 380} 0.458064965359\n"
     ]
    }
   ],
   "source": [
    "print str(grid.best_params_) +\" \"+str(grid.best_score_)"
   ]
  },
  {
   "cell_type": "code",
   "execution_count": null,
   "metadata": {
    "collapsed": false
   },
   "outputs": [],
   "source": []
  },
  {
   "cell_type": "code",
   "execution_count": 185,
   "metadata": {
    "collapsed": false
   },
   "outputs": [],
   "source": [
    "ada = AdaBoostClassifier(base_estimator=None, n_estimators=400, learning_rate=0.4, algorithm='SAMME.R', \n",
    "                         random_state=None)\n",
    "\n",
    "\n",
    "#best rf {'clf__max_depth': 14, 'clf__min_samples_leaf': 3, 'clf__min_samples_split': 2, 'clf__n_estimators': 400} 0.458900532674\n",
    "rf= RandomForestClassifier(n_estimators=400, criterion='gini', max_depth=14, min_samples_split=2, min_samples_leaf=3,\n",
    "                       min_weight_fraction_leaf=0.0, max_features='auto', max_leaf_nodes=None, bootstrap=True, \n",
    "                       oob_score=False, n_jobs=-1, random_state=None, verbose=0, warm_start=False, \n",
    "                       class_weight=None)"
   ]
  },
  {
   "cell_type": "code",
   "execution_count": 186,
   "metadata": {
    "collapsed": false
   },
   "outputs": [
    {
     "name": "stdout",
     "output_type": "stream",
     "text": [
      "[ 0.47077244  0.4709363   0.45316852  0.47118231  0.42337165] 0.457886245238 0.0185830985852\n"
     ]
    }
   ],
   "source": [
    "clf = rf\n",
    "\n",
    "scores = cross_val_score(clf, X,Y,scoring='accuracy',cv=5, n_jobs=-1)\n",
    "print scores,scores.mean(),scores.std()"
   ]
  },
  {
   "cell_type": "code",
   "execution_count": 170,
   "metadata": {
    "collapsed": false
   },
   "outputs": [
    {
     "data": {
      "text/plain": [
       "RandomForestClassifier(bootstrap=True, class_weight=None, criterion='gini',\n",
       "            max_depth=14, max_features='auto', max_leaf_nodes=None,\n",
       "            min_samples_leaf=3, min_samples_split=2,\n",
       "            min_weight_fraction_leaf=0.0, n_estimators=400, n_jobs=-1,\n",
       "            oob_score=False, random_state=None, verbose=0,\n",
       "            warm_start=False)"
      ]
     },
     "execution_count": 170,
     "metadata": {},
     "output_type": "execute_result"
    }
   ],
   "source": [
    "clf.fit(X,Y)"
   ]
  },
  {
   "cell_type": "code",
   "execution_count": null,
   "metadata": {
    "collapsed": false
   },
   "outputs": [],
   "source": []
  },
  {
   "cell_type": "code",
   "execution_count": null,
   "metadata": {
    "collapsed": true
   },
   "outputs": [],
   "source": []
  },
  {
   "cell_type": "code",
   "execution_count": null,
   "metadata": {
    "collapsed": true
   },
   "outputs": [],
   "source": []
  },
  {
   "cell_type": "code",
   "execution_count": null,
   "metadata": {
    "collapsed": false
   },
   "outputs": [],
   "source": [
    "\n",
    "lenght_pipe = Pipeline([\n",
    "        ('selector', ColumnSelector(key=['lenght']))\n",
    "    ])\n",
    "\n",
    "combined_features = FeatureUnion([\n",
    "                                ( \"ngram\",sentence_pipe ), \n",
    "                                (\"lenght\", lenght_pipe)\n",
    "                                ], \n",
    "                                transformer_weights={\"ngram\":1,\"lenght\":1 })"
   ]
  },
  {
   "cell_type": "code",
   "execution_count": 7,
   "metadata": {
    "collapsed": false
   },
   "outputs": [
    {
     "name": "stdout",
     "output_type": "stream",
     "text": [
      "[ 0.62526096  0.63940132  0.5689415   0.58558245  0.55329154] 0.594495554284 0.0328428448777\n"
     ]
    }
   ],
   "source": [
    "scores = cross_val_score(rf, X,Y,scoring='accuracy',cv=5, n_jobs=-1)\n",
    "print scores,scores.mean(),scores.std()"
   ]
  },
  {
   "cell_type": "code",
   "execution_count": 41,
   "metadata": {
    "collapsed": false
   },
   "outputs": [
    {
     "name": "stdout",
     "output_type": "stream",
     "text": [
      "[ 0.64178845  0.63400627  0.58095404  0.62162633  0.56234761] 0.608144538831 0.0310457138965\n"
     ]
    }
   ],
   "source": [
    "scores = cross_val_score(extra, X,Y,scoring='accuracy',cv=5, n_jobs=2)\n",
    "print scores,scores.mean(),scores.std()"
   ]
  },
  {
   "cell_type": "code",
   "execution_count": 14,
   "metadata": {
    "collapsed": false
   },
   "outputs": [
    {
     "name": "stdout",
     "output_type": "stream",
     "text": [
      "[ 0.3578636   0.36268709  0.38353064  0.39004005  0.33803553] 0.366431381703 0.0186735368356\n"
     ]
    }
   ],
   "source": [
    "scores = cross_val_score(bag, X,Y,scoring='accuracy',cv=5, n_jobs=-1)\n",
    "print scores,scores.mean(),scores.std()"
   ]
  },
  {
   "cell_type": "code",
   "execution_count": null,
   "metadata": {
    "collapsed": true
   },
   "outputs": [],
   "source": []
  }
 ],
 "metadata": {
  "kernelspec": {
   "display_name": "Python 2",
   "language": "python",
   "name": "python2"
  },
  "language_info": {
   "codemirror_mode": {
    "name": "ipython",
    "version": 2
   },
   "file_extension": ".py",
   "mimetype": "text/x-python",
   "name": "python",
   "nbconvert_exporter": "python",
   "pygments_lexer": "ipython2",
   "version": "2.7.6"
  }
 },
 "nbformat": 4,
 "nbformat_minor": 0
}
