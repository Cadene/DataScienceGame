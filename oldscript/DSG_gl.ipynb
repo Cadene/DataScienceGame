{
 "cells": [
  {
   "cell_type": "markdown",
   "metadata": {},
   "source": [
    "# DSG: MADATASCIENCE "
   ]
  },
  {
   "cell_type": "code",
   "execution_count": 3,
   "metadata": {
    "collapsed": false
   },
   "outputs": [],
   "source": [
    "import graphlab as gl\n",
    "import numpy as np\n",
    "import pandas as pd\n",
    "import logging\n",
    "import os\n",
    "#logging.getLogger(\"requests\").setLevel(logging.WARNING)\n",
    "logging.disable(logging.INFO)"
   ]
  },
  {
   "cell_type": "code",
   "execution_count": 4,
   "metadata": {
    "collapsed": false
   },
   "outputs": [
    {
     "name": "stdout",
     "output_type": "stream",
     "text": [
      "/home/arda/Documents/DSG\n"
     ]
    }
   ],
   "source": [
    "folder = os.getcwd() ; print folder "
   ]
  },
  {
   "cell_type": "code",
   "execution_count": 5,
   "metadata": {
    "collapsed": false
   },
   "outputs": [],
   "source": [
    "#pd_train = pd.io.pickle.read_pickle(folder + '/data_munged/pd_train_tagged')\n",
    "#pd_test = pd.io.pickle.read_pickle(folder + '/data_munged/pd_test_tagged')\n",
    "\n",
    "pd_train = pd.io.pickle.read_pickle(folder + '/data_munged/pd_train_munged')\n",
    "pd_test = pd.io.pickle.read_pickle(folder + '/data_munged/pd_test_munged')"
   ]
  },
  {
   "cell_type": "code",
   "execution_count": 6,
   "metadata": {
    "collapsed": false
   },
   "outputs": [],
   "source": [
    "pd_train['Sentence1'] = pd_train.apply(lambda x:str(x['Sentence'])+' '+str(int(x['nb_caps_word']))+' '+\n",
    "                                  str(int(x['nb_!']))+' '+str(int(x['nb_,;'])),axis=1)\n",
    "\n",
    "pd_train['Sentence2'] = pd_train.apply(lambda x:str(x['Sentence'])+' '+str(int(x['nb_caps_char']))+' '+\n",
    "                                  str(int(x['nb_!']))+' '+str(int(x['nb_,;'])),axis=1)"
   ]
  },
  {
   "cell_type": "code",
   "execution_count": 7,
   "metadata": {
    "collapsed": false
   },
   "outputs": [],
   "source": [
    "sf_train = gl.SFrame(pd_train)\n",
    "sf_test = gl.SFrame(pd_test)"
   ]
  },
  {
   "cell_type": "code",
   "execution_count": null,
   "metadata": {
    "collapsed": false
   },
   "outputs": [],
   "source": []
  },
  {
   "cell_type": "code",
   "execution_count": 11,
   "metadata": {
    "collapsed": false
   },
   "outputs": [],
   "source": [
    "def conv2ngrame(sf,nb_gram,col_name):\n",
    "    sf[col_name] = gl.text_analytics.count_ngrams(sf['Sentence'], to_lower=False, n=1)\n",
    "    return sf\n",
    "\n",
    "\n",
    "def stopwords(sf,col_name):\n",
    "    sf[col_name] = sf[col_name].dict_trim_by_keys(gl.text_analytics.stopwords(lang='en'), True)\n",
    "    return sf\n",
    "\n",
    "def tfidf(sf,col_name):\n",
    "    sf[col_name] = gl.text_analytics.tf_idf(sf[col_name])['docs']\n",
    "    return sf"
   ]
  },
  {
   "cell_type": "code",
   "execution_count": null,
   "metadata": {
    "collapsed": false
   },
   "outputs": [],
   "source": []
  },
  {
   "cell_type": "code",
   "execution_count": 12,
   "metadata": {
    "collapsed": false
   },
   "outputs": [],
   "source": [
    "#train munge\n",
    "sf_train = conv2ngrame(sf_train,1,'uni')\n",
    "sf_train = conv2ngrame(sf_train,2,'bi')\n",
    "sf_train = conv2ngrame(sf_train,3,'tri')\n",
    "\n",
    "#sf_train = stopwords(sf_train, 'bi')\n",
    "#sf_train = stopwords(sf_train, 'uni')\n",
    "#sf_train = stopwords(sf_train, 'tri')\n",
    "\n",
    "sf_train = tfidf(sf_train,'uni')\n",
    "sf_train = tfidf(sf_train,'bi')\n",
    "sf_train = tfidf(sf_train,'tri')\n",
    "\n",
    "#test munge\n",
    "sf_test = conv2ngrame(sf_test,1,'uni')\n",
    "sf_test = conv2ngrame(sf_test,2,'bi')\n",
    "sf_test = conv2ngrame(sf_test,3,'tri')\n",
    "\n",
    "#sf_test = stopwords(sf_test, 'bi')\n",
    "#sf_test = stopwords(sf_test, 'uni')\n",
    "#sf_test = stopwords(sf_test, 'tri')\n",
    "\n",
    "sf_test = tfidf(sf_test,'uni')\n",
    "sf_test = tfidf(sf_test,'bi')\n",
    "sf_test = tfidf(sf_test,'tri')"
   ]
  },
  {
   "cell_type": "code",
   "execution_count": null,
   "metadata": {
    "collapsed": false,
    "scrolled": true
   },
   "outputs": [],
   "source": []
  },
  {
   "cell_type": "code",
   "execution_count": 14,
   "metadata": {
    "collapsed": false
   },
   "outputs": [
    {
     "data": {
      "text/plain": [
       "dtype: str\n",
       "Rows: 6\n",
       "['twain', 'wilde', 'austen', 'doyle', 'poe', 'shakespeare']"
      ]
     },
     "execution_count": 14,
     "metadata": {},
     "output_type": "execute_result"
    }
   ],
   "source": [
    "sf_train['Author'].unique()"
   ]
  },
  {
   "cell_type": "code",
   "execution_count": 95,
   "metadata": {
    "collapsed": false
   },
   "outputs": [],
   "source": [
    "def f(r):\n",
    "    out = 0\n",
    "    if r=='twain':out=1;\n",
    "    elif r=='doyle':out=2;\n",
    "    elif r=='poe':out=3;\n",
    "    elif r=='austen':out=4;\n",
    "    elif r=='wilde':out=5;\n",
    "    elif r=='shakespeare':out=6;\n",
    "    return out"
   ]
  },
  {
   "cell_type": "code",
   "execution_count": 149,
   "metadata": {
    "collapsed": false
   },
   "outputs": [],
   "source": [
    "sf_train['label'] = sf_train['Author'].apply(lambda r: f(r))"
   ]
  },
  {
   "cell_type": "code",
   "execution_count": 16,
   "metadata": {
    "collapsed": false
   },
   "outputs": [
    {
     "name": "stdout",
     "output_type": "stream",
     "text": [
      "['Sentence', 'Author', 'lenght', 'nb_caps_char', 'nb_caps_word', 'nb_?', 'nb_,', 'nb_!', 'nb_.', 'nb_;', \"nb_'\", 'nb_all', 'nb_,;', 'diversity', 'Sentence1', 'Sentence2', 'uni', 'bi', 'tri']\n"
     ]
    }
   ],
   "source": [
    "print sf_train.column_names()"
   ]
  },
  {
   "cell_type": "code",
   "execution_count": 18,
   "metadata": {
    "collapsed": false
   },
   "outputs": [
    {
     "name": "stdout",
     "output_type": "stream",
     "text": [
      "['Author', 'lenght', 'nb_caps_char', 'nb_caps_word', 'nb_?', 'nb_,', 'nb_!', 'nb_.', 'nb_;', \"nb_'\", 'nb_all', 'nb_,;', 'diversity', 'uni', 'bi', 'tri']\n"
     ]
    }
   ],
   "source": [
    "F = ['Author', 'lenght', 'nb_caps_char', 'nb_caps_word', 'nb_?', 'nb_,', 'nb_!', 'nb_.', 'nb_;', \"nb_'\", 'nb_all', 'nb_,;', 'diversity', 'uni', 'bi', 'tri']\n",
    "print F"
   ]
  },
  {
   "cell_type": "code",
   "execution_count": 180,
   "metadata": {
    "collapsed": false
   },
   "outputs": [
    {
     "name": "stdout",
     "output_type": "stream",
     "text": [
      "PROGRESS: Making predictions on training data.\n",
      "0.274326939996\n",
      "PROGRESS: Making predictions on training data.\n",
      "0.279330572809\n"
     ]
    }
   ],
   "source": [
    "for i in range(1):\n",
    "    train, val = sf_train.random_split(0.8,seed=i)\n",
    "\n",
    "    m = gl.vowpal_wabbit.create(train[F],validation_set=val target='Author', loss_function='squared', quadratic=list(),\n",
    "                                l1_penalty=1e-7, l2_penalty=1e-7, bigram=True,\n",
    "                                step_size=0.1, num_bits=18, verbose=False,\n",
    "                                max_iterations=50, command_line_args='')\n",
    "\n",
    "    #y_pred = m.predict(val[F]).apply(lambda r: int(np.round(r)))\n",
    "    #print gl.evaluation.accuracy(y_pred, val['label'])"
   ]
  },
  {
   "cell_type": "code",
   "execution_count": null,
   "metadata": {
    "collapsed": true
   },
   "outputs": [],
   "source": []
  },
  {
   "cell_type": "markdown",
   "metadata": {},
   "source": [
    "# ENSEMBLE BRO"
   ]
  },
  {
   "cell_type": "code",
   "execution_count": 24,
   "metadata": {
    "collapsed": false
   },
   "outputs": [
    {
     "name": "stdout",
     "output_type": "stream",
     "text": [
      "['Sentence', 'Author', 'lenght', 'nb_caps_char', 'nb_caps_word', 'nb_?', 'nb_,', 'nb_!', 'nb_.', 'nb_;', \"nb_'\", 'nb_all', 'nb_,;', 'diversity', 'Sentence1', 'Sentence2', 'uni', 'bi', 'tri']\n"
     ]
    }
   ],
   "source": [
    "print sf_train.column_names()"
   ]
  },
  {
   "cell_type": "code",
   "execution_count": 40,
   "metadata": {
    "collapsed": false,
    "scrolled": true
   },
   "outputs": [
    {
     "name": "stdout",
     "output_type": "stream",
     "text": [
      "Canvas is accessible via web browser at the URL: http://localhost:47779/index.html\n"
     ]
    }
   ],
   "source": [
    "Value\tCount\tPercent\n",
    "austen\t9,927\t34.561%\t\n",
    "twain\t6,081\t21.171%\t\n",
    "doyle\t5,534\t19.267%\t\n",
    "wilde\t4,771\t16.61%\t\n",
    "shakespeare\t2,178\t7.583%\t\n",
    "poe\t232\t0.808%"
   ]
  },
  {
   "cell_type": "code",
   "execution_count": null,
   "metadata": {
    "collapsed": false
   },
   "outputs": [],
   "source": []
  },
  {
   "cell_type": "code",
   "execution_count": 59,
   "metadata": {
    "collapsed": false
   },
   "outputs": [
    {
     "name": "stdout",
     "output_type": "stream",
     "text": [
      "['lenght', 'nb_caps_char', 'nb_caps_word', 'nb_?', 'nb_,', 'nb_!', 'nb_.', 'nb_;', \"nb_'\", 'nb_all', 'nb_,;', 'diversity']\n"
     ]
    }
   ],
   "source": [
    "F = ['lenght', 'nb_caps_char', 'nb_caps_word', 'nb_?', 'nb_,', 'nb_!', 'nb_.', 'nb_;', \"nb_'\", 'nb_all', 'nb_,;', 'diversity']\n",
    "print F"
   ]
  },
  {
   "cell_type": "code",
   "execution_count": null,
   "metadata": {
    "collapsed": false
   },
   "outputs": [],
   "source": []
  },
  {
   "cell_type": "code",
   "execution_count": 62,
   "metadata": {
    "collapsed": false,
    "scrolled": true
   },
   "outputs": [
    {
     "name": "stdout",
     "output_type": "stream",
     "text": [
      "PROGRESS: Boosted trees classifier:\n",
      "PROGRESS: --------------------------------------------------------\n",
      "PROGRESS: Number of examples          : 23040\n",
      "PROGRESS: Number of classes           : 6\n",
      "PROGRESS: Number of feature columns   : 12\n",
      "PROGRESS: Number of unpacked features : 12\n",
      "PROGRESS: Starting Boosted Trees\n",
      "PROGRESS: --------------------------------------------------------\n",
      "PROGRESS:   Iter      Accuracy          Elapsed time\n",
      "PROGRESS:         (training) (validation)\n",
      "PROGRESS:      0   5.987e-01   5.461e-01        0.14s\n",
      "PROGRESS:      1   6.056e-01   5.487e-01        0.24s\n",
      "PROGRESS:      2   6.112e-01   5.506e-01        0.35s\n",
      "PROGRESS:      3   6.152e-01   5.487e-01        0.46s\n",
      "PROGRESS:      4   6.198e-01   5.482e-01        0.57s\n",
      "PROGRESS:      5   6.232e-01   5.494e-01        0.68s\n",
      "PROGRESS:      6   6.257e-01   5.492e-01        0.79s\n",
      "PROGRESS:      7   6.289e-01   5.506e-01        0.90s\n",
      "PROGRESS:      8   6.334e-01   5.476e-01        1.01s\n",
      "PROGRESS:      9   6.365e-01   5.452e-01        1.12s\n",
      "PROGRESS:     10   6.394e-01   5.448e-01        1.23s\n",
      "PROGRESS:     11   6.428e-01   5.475e-01        1.35s\n",
      "PROGRESS:     12   6.455e-01   5.473e-01        1.47s\n",
      "PROGRESS:     13   6.484e-01   5.475e-01        1.58s\n",
      "PROGRESS:     14   6.512e-01   5.463e-01        1.69s\n",
      "PROGRESS:     15   6.535e-01   5.460e-01        1.82s\n",
      "PROGRESS:     16   6.571e-01   5.460e-01        1.93s\n",
      "PROGRESS:     17   6.596e-01   5.441e-01        2.04s\n",
      "PROGRESS:     18   6.626e-01   5.428e-01        2.16s\n",
      "PROGRESS:     19   6.649e-01   5.420e-01        2.27s\n",
      "PROGRESS:     20   6.672e-01   5.421e-01        2.38s\n",
      "PROGRESS:     21   6.709e-01   5.409e-01        2.49s\n",
      "PROGRESS:     22   6.730e-01   5.405e-01        2.60s\n",
      "PROGRESS:     23   6.763e-01   5.412e-01        2.72s\n",
      "PROGRESS:     24   6.782e-01   5.419e-01        2.83s\n",
      "PROGRESS:     25   6.824e-01   5.411e-01        2.95s\n",
      "PROGRESS:     26   6.864e-01   5.401e-01        3.06s\n",
      "PROGRESS:     27   6.878e-01   5.398e-01        3.17s\n",
      "PROGRESS:     28   6.893e-01   5.391e-01        3.28s\n",
      "PROGRESS:     29   6.911e-01   5.396e-01        3.40s\n",
      "PROGRESS:     30   6.934e-01   5.402e-01        3.51s\n",
      "PROGRESS:     31   6.955e-01   5.391e-01        3.62s\n",
      "PROGRESS:     32   6.961e-01   5.383e-01        3.73s\n",
      "PROGRESS:     33   6.998e-01   5.377e-01        3.85s\n",
      "PROGRESS:     34   7.030e-01   5.361e-01        3.97s\n",
      "PROGRESS:     35   7.078e-01   5.356e-01        4.08s\n",
      "PROGRESS:     36   7.098e-01   5.337e-01        4.20s\n",
      "PROGRESS:     37   7.113e-01   5.335e-01        4.31s\n",
      "PROGRESS:     38   7.131e-01   5.314e-01        4.42s\n",
      "PROGRESS:     39   7.165e-01   5.297e-01        4.53s\n",
      "PROGRESS:     40   7.204e-01   5.284e-01        4.64s\n",
      "PROGRESS:     41   7.251e-01   5.269e-01        4.76s\n",
      "PROGRESS:     42   7.278e-01   5.287e-01        4.87s\n",
      "PROGRESS:     43   7.306e-01   5.285e-01        4.98s\n",
      "PROGRESS:     44   7.347e-01   5.282e-01        5.09s\n",
      "PROGRESS:     45   7.373e-01   5.281e-01        5.20s\n",
      "PROGRESS:     46   7.401e-01   5.264e-01        5.31s\n",
      "PROGRESS:     47   7.422e-01   5.251e-01        5.42s\n",
      "PROGRESS:     48   7.451e-01   5.248e-01        5.54s\n",
      "PROGRESS:     49   7.474e-01   5.243e-01        5.64s\n",
      "PROGRESS:     50   7.497e-01   5.245e-01        5.76s\n",
      "PROGRESS:     51   7.510e-01   5.243e-01        5.87s\n",
      "PROGRESS:     52   7.536e-01   5.237e-01        5.98s\n",
      "PROGRESS:     53   7.557e-01   5.216e-01        6.09s\n",
      "PROGRESS:     54   7.575e-01   5.195e-01        6.20s\n",
      "PROGRESS:     55   7.601e-01   5.184e-01        6.31s\n",
      "PROGRESS:     56   7.611e-01   5.185e-01        6.42s\n",
      "PROGRESS:     57   7.619e-01   5.184e-01        6.53s\n",
      "PROGRESS:     58   7.625e-01   5.185e-01        6.64s\n",
      "PROGRESS:     59   7.641e-01   5.174e-01        6.75s\n",
      "PROGRESS:     60   7.646e-01   5.163e-01        6.85s\n",
      "PROGRESS:     61   7.657e-01   5.159e-01        6.96s\n",
      "PROGRESS:     62   7.672e-01   5.148e-01        7.07s\n",
      "PROGRESS:     63   7.679e-01   5.142e-01        7.17s\n",
      "PROGRESS:     64   7.696e-01   5.147e-01        7.28s\n",
      "PROGRESS:     65   7.708e-01   5.141e-01        7.39s\n",
      "PROGRESS:     66   7.722e-01   5.144e-01        7.50s\n",
      "PROGRESS:     67   7.727e-01   5.159e-01        7.61s\n",
      "PROGRESS:     68   7.740e-01   5.149e-01        7.72s\n",
      "PROGRESS:     69   7.762e-01   5.143e-01        7.84s\n",
      "PROGRESS:     70   7.781e-01   5.135e-01        7.95s\n",
      "PROGRESS:     71   7.798e-01   5.140e-01        8.06s\n",
      "PROGRESS:     72   7.804e-01   5.142e-01        8.17s\n",
      "PROGRESS:     73   7.817e-01   5.137e-01        8.28s\n",
      "PROGRESS:     74   7.839e-01   5.125e-01        8.39s\n",
      "PROGRESS:     75   7.845e-01   5.131e-01        8.50s\n",
      "PROGRESS:     76   7.849e-01   5.123e-01        8.61s\n",
      "PROGRESS:     77   7.857e-01   5.125e-01        8.71s\n",
      "PROGRESS:     78   7.869e-01   5.121e-01        8.82s\n",
      "PROGRESS:     79   7.882e-01   5.118e-01        8.94s\n",
      "PROGRESS:     80   7.894e-01   5.124e-01        9.05s\n",
      "PROGRESS:     81   7.907e-01   5.113e-01        9.16s\n",
      "PROGRESS:     82   7.916e-01   5.118e-01        9.28s\n",
      "PROGRESS:     83   7.921e-01   5.117e-01        9.39s\n",
      "PROGRESS:     84   7.924e-01   5.123e-01        9.49s\n",
      "PROGRESS:     85   7.927e-01   5.120e-01        9.60s\n",
      "PROGRESS:     86   7.941e-01   5.118e-01        9.71s\n",
      "PROGRESS:     87   7.948e-01   5.092e-01        9.82s\n",
      "PROGRESS:     88   7.955e-01   5.094e-01        9.93s\n",
      "PROGRESS:     89   7.961e-01   5.100e-01       10.04s\n",
      "PROGRESS:     90   7.974e-01   5.087e-01       10.15s\n",
      "PROGRESS:     91   7.982e-01   5.076e-01       10.26s\n",
      "PROGRESS:     92   7.986e-01   5.067e-01       10.37s\n",
      "PROGRESS:     93   7.996e-01   5.072e-01       10.48s\n",
      "PROGRESS:     94   8.010e-01   5.068e-01       10.59s\n",
      "PROGRESS:     95   8.023e-01   5.075e-01       10.70s\n",
      "PROGRESS:     96   8.024e-01   5.072e-01       10.81s\n",
      "PROGRESS:     97   8.037e-01   5.062e-01       10.92s\n",
      "PROGRESS:     98   8.039e-01   5.061e-01       11.02s\n",
      "PROGRESS:     99   8.047e-01   5.069e-01       11.13s\n",
      "PROGRESS:    100   8.052e-01   5.064e-01       11.24s\n",
      "PROGRESS:    101   8.060e-01   5.056e-01       11.35s\n",
      "PROGRESS:    102   8.067e-01   5.067e-01       11.46s\n",
      "PROGRESS:    103   8.070e-01   5.065e-01       11.57s\n",
      "PROGRESS:    104   8.080e-01   5.064e-01       11.68s\n",
      "PROGRESS:    105   8.084e-01   5.064e-01       11.80s\n",
      "PROGRESS:    106   8.093e-01   5.059e-01       11.91s\n",
      "PROGRESS:    107   8.097e-01   5.039e-01       12.01s\n",
      "PROGRESS:    108   8.099e-01   5.042e-01       12.12s\n",
      "PROGRESS:    109   8.104e-01   5.046e-01       12.23s\n",
      "PROGRESS:    110   8.106e-01   5.049e-01       12.33s\n",
      "PROGRESS:    111   8.116e-01   5.046e-01       12.44s\n",
      "PROGRESS:    112   8.123e-01   5.050e-01       12.55s\n",
      "PROGRESS:    113   8.128e-01   5.049e-01       12.66s\n",
      "PROGRESS:    114   8.132e-01   5.037e-01       12.77s\n",
      "PROGRESS:    115   8.137e-01   5.022e-01       12.87s\n",
      "PROGRESS:    116   8.147e-01   5.016e-01       12.98s\n",
      "PROGRESS:    117   8.154e-01   5.024e-01       13.08s\n",
      "PROGRESS:    118   8.165e-01   5.030e-01       13.19s\n",
      "PROGRESS:    119   8.169e-01   5.023e-01       13.30s\n",
      "PROGRESS:    120   8.170e-01   5.020e-01       13.41s\n",
      "PROGRESS:    121   8.176e-01   5.033e-01       13.52s\n",
      "PROGRESS:    122   8.178e-01   5.020e-01       13.62s\n",
      "PROGRESS:    123   8.187e-01   4.994e-01       13.73s\n",
      "PROGRESS:    124   8.187e-01   4.995e-01       13.85s\n",
      "PROGRESS:    125   8.190e-01   4.996e-01       13.96s\n",
      "PROGRESS:    126   8.191e-01   4.996e-01       14.07s\n",
      "PROGRESS:    127   8.198e-01   4.991e-01       14.17s\n",
      "PROGRESS:    128   8.200e-01   4.992e-01       14.28s\n",
      "PROGRESS:    129   8.203e-01   4.990e-01       14.38s\n",
      "PROGRESS:    130   8.205e-01   4.986e-01       14.49s\n",
      "PROGRESS:    131   8.212e-01   4.984e-01       14.60s\n",
      "PROGRESS:    132   8.215e-01   4.982e-01       14.71s\n",
      "PROGRESS:    133   8.221e-01   4.980e-01       14.81s\n",
      "PROGRESS:    134   8.225e-01   4.974e-01       14.92s\n",
      "PROGRESS:    135   8.227e-01   4.972e-01       15.03s\n",
      "PROGRESS:    136   8.229e-01   4.965e-01       15.15s\n",
      "PROGRESS:    137   8.229e-01   4.954e-01       15.25s\n",
      "PROGRESS:    138   8.235e-01   4.957e-01       15.36s\n",
      "PROGRESS:    139   8.236e-01   4.963e-01       15.47s\n",
      "PROGRESS:    140   8.240e-01   4.963e-01       15.57s\n",
      "PROGRESS:    141   8.245e-01   4.967e-01       15.68s\n",
      "PROGRESS:    142   8.246e-01   4.962e-01       15.80s\n",
      "PROGRESS:    143   8.246e-01   4.966e-01       15.91s\n",
      "PROGRESS:    144   8.251e-01   4.963e-01       16.01s\n",
      "PROGRESS:    145   8.257e-01   4.956e-01       16.12s\n",
      "PROGRESS:    146   8.258e-01   4.956e-01       16.23s\n",
      "PROGRESS:    147   8.258e-01   4.954e-01       16.34s\n",
      "PROGRESS:    148   8.259e-01   4.952e-01       16.45s\n",
      "PROGRESS:    149   8.266e-01   4.940e-01       16.56s\n",
      "PROGRESS:    150   8.268e-01   4.931e-01       16.67s\n",
      "PROGRESS:    151   8.273e-01   4.934e-01       16.78s\n",
      "PROGRESS:    152   8.281e-01   4.941e-01       16.90s\n",
      "PROGRESS:    153   8.284e-01   4.936e-01       17.01s\n",
      "PROGRESS:    154   8.285e-01   4.932e-01       17.12s\n",
      "PROGRESS:    155   8.286e-01   4.931e-01       17.22s\n",
      "PROGRESS:    156   8.287e-01   4.932e-01       17.33s\n",
      "PROGRESS:    157   8.288e-01   4.925e-01       17.44s\n",
      "PROGRESS:    158   8.289e-01   4.931e-01       17.55s\n",
      "PROGRESS:    159   8.292e-01   4.934e-01       17.66s\n",
      "PROGRESS:    160   8.295e-01   4.922e-01       17.77s\n",
      "PROGRESS:    161   8.297e-01   4.921e-01       17.88s\n",
      "PROGRESS:    162   8.303e-01   4.916e-01       17.99s\n",
      "PROGRESS:    163   8.304e-01   4.924e-01       18.10s\n",
      "PROGRESS:    164   8.305e-01   4.920e-01       18.20s\n",
      "PROGRESS:    165   8.307e-01   4.933e-01       18.31s\n",
      "PROGRESS:    166   8.309e-01   4.935e-01       18.42s\n",
      "PROGRESS:    167   8.312e-01   4.918e-01       18.53s\n",
      "PROGRESS:    168   8.315e-01   4.920e-01       18.64s\n",
      "PROGRESS:    169   8.317e-01   4.911e-01       18.76s\n",
      "PROGRESS:    170   8.320e-01   4.921e-01       18.87s\n",
      "PROGRESS:    171   8.323e-01   4.924e-01       18.99s\n",
      "PROGRESS:    172   8.327e-01   4.928e-01       19.10s\n",
      "PROGRESS:    173   8.327e-01   4.915e-01       19.21s\n",
      "PROGRESS:    174   8.331e-01   4.919e-01       19.33s\n",
      "PROGRESS:    175   8.332e-01   4.922e-01       19.44s\n",
      "PROGRESS:    176   8.333e-01   4.923e-01       19.55s\n",
      "PROGRESS:    177   8.334e-01   4.918e-01       19.65s\n",
      "PROGRESS:    178   8.334e-01   4.917e-01       19.77s\n",
      "PROGRESS:    179   8.336e-01   4.910e-01       19.89s\n",
      "PROGRESS:    180   8.338e-01   4.917e-01       20.00s\n",
      "PROGRESS:    181   8.338e-01   4.921e-01       20.11s\n",
      "PROGRESS:    182   8.339e-01   4.916e-01       20.21s\n",
      "PROGRESS:    183   8.340e-01   4.904e-01       20.32s\n",
      "PROGRESS:    184   8.341e-01   4.906e-01       20.43s\n",
      "PROGRESS:    185   8.343e-01   4.896e-01       20.54s\n",
      "PROGRESS:    186   8.345e-01   4.895e-01       20.65s\n",
      "PROGRESS:    187   8.346e-01   4.893e-01       20.76s\n",
      "PROGRESS:    188   8.346e-01   4.893e-01       20.86s\n",
      "PROGRESS:    189   8.350e-01   4.884e-01       20.97s\n",
      "PROGRESS:    190   8.350e-01   4.887e-01       21.08s\n",
      "PROGRESS:    191   8.351e-01   4.891e-01       21.19s\n",
      "PROGRESS:    192   8.351e-01   4.894e-01       21.31s\n",
      "PROGRESS:    193   8.351e-01   4.891e-01       21.43s\n",
      "PROGRESS:    194   8.351e-01   4.887e-01       21.54s\n",
      "PROGRESS:    195   8.352e-01   4.890e-01       21.67s\n",
      "PROGRESS:    196   8.353e-01   4.886e-01       21.81s\n",
      "PROGRESS:    197   8.353e-01   4.884e-01       21.92s\n",
      "PROGRESS:    198   8.354e-01   4.881e-01       22.02s\n",
      "PROGRESS:    199   8.354e-01   4.887e-01       22.13s\n"
     ]
    }
   ],
   "source": [
    "weights = {'austen': 35, 'twain': 21, 'doyle': 20, 'wilde': 17, 'shakespeare': 8, 'poe': 2}\n",
    "\n",
    "for i in range(1):\n",
    "    train, val = sf_train.random_split(0.8, seed=i)\n",
    "    m = gl.classifier.boosted_trees_classifier.create(train, validation_set=val,\n",
    "                                                       features=F, target='Author',\n",
    "                                                       max_iterations=200,\n",
    "                                                      max_depth=10,min_child_weight=0.1,step_size=0.3,\n",
    "                                                       class_weights=weights,\n",
    "                                                       verbose=True)"
   ]
  },
  {
   "cell_type": "code",
   "execution_count": null,
   "metadata": {
    "collapsed": false
   },
   "outputs": [],
   "source": []
  },
  {
   "cell_type": "code",
   "execution_count": 52,
   "metadata": {
    "collapsed": false
   },
   "outputs": [
    {
     "name": "stdout",
     "output_type": "stream",
     "text": [
      "0.753827203942\n"
     ]
    }
   ],
   "source": [
    "from sklearn.metrics import accuracy_score\n",
    "\n",
    "y_pred = list(m.predict(val))\n",
    "gt = list(val['Author'])\n",
    "\n",
    "print accuracy_score(y_pred,gt)"
   ]
  },
  {
   "cell_type": "code",
   "execution_count": null,
   "metadata": {
    "collapsed": false
   },
   "outputs": [],
   "source": []
  },
  {
   "cell_type": "code",
   "execution_count": null,
   "metadata": {
    "collapsed": false
   },
   "outputs": [],
   "source": []
  },
  {
   "cell_type": "markdown",
   "metadata": {},
   "source": [
    "# KNN"
   ]
  },
  {
   "cell_type": "code",
   "execution_count": null,
   "metadata": {
    "collapsed": false
   },
   "outputs": [],
   "source": []
  },
  {
   "cell_type": "code",
   "execution_count": 82,
   "metadata": {
    "collapsed": true
   },
   "outputs": [
    {
     "name": "stdout",
     "output_type": "stream",
     "text": [
      "Starting nearest neighbors model construction...\n",
      "PROGRESS: Starting to query\n",
      "PROGRESS: +--------------+---------+-------------+--------------+\n",
      "PROGRESS: | Query points | # Pairs | % Complete. | Elapsed Time |\n",
      "PROGRESS: +--------------+---------+-------------+--------------+\n",
      "PROGRESS: | 0            | 5769    | 0           | 25.835ms     |\n",
      "PROGRESS: | 999          | 2.3e+07 | 17.25       | 1.02s        |\n",
      "PROGRESS: | 1981         | 4.5e+07 | 34.25       | 2.02s        |\n",
      "PROGRESS: | 2958         | 6.8e+07 | 51.25       | 3.02s        |\n",
      "PROGRESS: | 3811         | 8.7e+07 | 66          | 4.02s        |\n",
      "PROGRESS: | 4785         | 1.1e+08 | 82.75       | 5.02s        |\n",
      "PROGRESS: | 5570         | 1.3e+08 | 96.5        | 6.02s        |\n",
      "PROGRESS: | Done         |         | 100         | 6.64s        |\n",
      "PROGRESS: +--------------+---------+-------------+--------------+\n",
      "{'confusion_matrix': Columns:\n",
      "\ttarget_label\tstr\n",
      "\tpredicted_label\tstr\n",
      "\tcount\tint\n",
      "\n",
      "Rows: 25\n",
      "\n",
      "Data:\n",
      "+--------------+-----------------+-------+\n",
      "| target_label | predicted_label | count |\n",
      "+--------------+-----------------+-------+\n",
      "|     poe      |      wilde      |   6   |\n",
      "|    twain     |      wilde      |  150  |\n",
      "|    twain     |      doyle      |   5   |\n",
      "| shakespeare  |   shakespeare   |   38  |\n",
      "|    doyle     |      twain      |  109  |\n",
      "|    doyle     |      austen     |  784  |\n",
      "|    austen    |      austen     |  1585 |\n",
      "|    wilde     |      wilde      |  328  |\n",
      "|    doyle     |      wilde      |  213  |\n",
      "| shakespeare  |      wilde      |   48  |\n",
      "+--------------+-----------------+-------+\n",
      "[25 rows x 3 columns]\n",
      "Note: Only the head of the SFrame is printed.\n",
      "You can use print_rows(num_rows=m, num_columns=n) to print more rows and columns., 'accuracy': 0.3985092737042815}\n",
      "Starting nearest neighbors model construction...\n",
      "PROGRESS: Starting to query\n",
      "PROGRESS: +--------------+---------+-------------+--------------+\n",
      "PROGRESS: | Query points | # Pairs | % Complete. | Elapsed Time |\n",
      "PROGRESS: +--------------+---------+-------------+--------------+\n",
      "PROGRESS: | 0            | 5683    | 0           | 22.85ms      |\n",
      "PROGRESS: | 719          | 1.7e+07 | 12.5        | 1.02s        |\n",
      "PROGRESS: | 1381         | 3.2e+07 | 24.25       | 2.02s        |\n",
      "PROGRESS: | 1888         | 4.4e+07 | 33          | 3.02s        |\n",
      "PROGRESS: | 2552         | 5.9e+07 | 44.75       | 4.02s        |\n",
      "PROGRESS: | 3211         |         | 56.5        | 5.02s        |\n",
      "PROGRESS: | 3844         | 8.9e+07 | 67.5        | 6.02s        |\n",
      "PROGRESS: | 4466         | 1e+08   | 78.5        | 7.02s        |\n",
      "PROGRESS: | 5082         | 1.2e+08 | 89.25       | 8.02s        |\n",
      "PROGRESS: | 5539         | 1.3e+08 | 97.25       | 9.02s        |\n",
      "PROGRESS: | Done         |         | 100         | 9.69s        |\n",
      "PROGRESS: +--------------+---------+-------------+--------------+\n",
      "{'confusion_matrix': Columns:\n",
      "\ttarget_label\tstr\n",
      "\tpredicted_label\tstr\n",
      "\tcount\tint\n",
      "\n",
      "Rows: 27\n",
      "\n",
      "Data:\n",
      "+--------------+-----------------+-------+\n",
      "| target_label | predicted_label | count |\n",
      "+--------------+-----------------+-------+\n",
      "|    wilde     |      twain      |   18  |\n",
      "| shakespeare  |      austen     |  343  |\n",
      "|    wilde     |   shakespeare   |   3   |\n",
      "|    austen    |      doyle      |   5   |\n",
      "|    twain     |      doyle      |   8   |\n",
      "| shakespeare  |   shakespeare   |   45  |\n",
      "|    doyle     |      austen     |  1008 |\n",
      "|    austen    |      austen     |  1830 |\n",
      "|    doyle     |      wilde      |   63  |\n",
      "|    wilde     |      wilde      |  167  |\n",
      "+--------------+-----------------+-------+\n",
      "[27 rows x 3 columns]\n",
      "Note: Only the head of the SFrame is printed.\n",
      "You can use print_rows(num_rows=m, num_columns=n) to print more rows and columns., 'accuracy': 0.38078479676227345}\n",
      "Starting nearest neighbors model construction...\n",
      "PROGRESS: Starting to query\n",
      "PROGRESS: +--------------+---------+-------------+--------------+\n",
      "PROGRESS: | Query points | # Pairs | % Complete. | Elapsed Time |\n",
      "PROGRESS: +--------------+---------+-------------+--------------+\n",
      "PROGRESS: | 0            | 5691    | 0           | 23.311ms     |\n",
      "PROGRESS: | 1295         | 3e+07   | 22.75       | 1.02s        |\n",
      "PROGRESS: | 2459         | 5.7e+07 | 43          | 2.02s        |\n",
      "PROGRESS: | 3559         | 8.2e+07 | 62.5        | 3.02s        |\n",
      "PROGRESS: | 4723         | 1.1e+08 | 82.75       | 4.02s        |\n",
      "PROGRESS: | 5659         | 1.3e+08 | 99.25       | 5.02s        |\n",
      "PROGRESS: | Done         |         | 100         | 5.15s        |\n",
      "PROGRESS: +--------------+---------+-------------+--------------+\n",
      "{'confusion_matrix': Columns:\n",
      "\ttarget_label\tstr\n",
      "\tpredicted_label\tstr\n",
      "\tcount\tint\n",
      "\n",
      "Rows: 29\n",
      "\n",
      "Data:\n",
      "+--------------+-----------------+-------+\n",
      "| target_label | predicted_label | count |\n",
      "+--------------+-----------------+-------+\n",
      "|    wilde     |      twain      |   69  |\n",
      "| shakespeare  |      austen     |   65  |\n",
      "|    austen    |      doyle      |  157  |\n",
      "|    wilde     |      austen     |  211  |\n",
      "|    austen    |   shakespeare   |   11  |\n",
      "|    austen    |      twain      |   72  |\n",
      "|    twain     |      twain      |  733  |\n",
      "| shakespeare  |   shakespeare   |  217  |\n",
      "|    doyle     |      twain      |  134  |\n",
      "|    doyle     |   shakespeare   |   5   |\n",
      "+--------------+-----------------+-------+\n",
      "[29 rows x 3 columns]\n",
      "Note: Only the head of the SFrame is printed.\n",
      "You can use print_rows(num_rows=m, num_columns=n) to print more rows and columns., 'accuracy': 0.6195747671762432}\n",
      "Starting nearest neighbors model construction...\n",
      "PROGRESS: Starting to query\n",
      "PROGRESS: +--------------+---------+-------------+--------------+\n",
      "PROGRESS: | Query points | # Pairs | % Complete. | Elapsed Time |\n",
      "PROGRESS: +--------------+---------+-------------+--------------+\n",
      "PROGRESS: | 0            | 5759    | 0           | 24.227ms     |\n",
      "PROGRESS: | 1198         | 2.8e+07 | 20.75       | 1.02s        |\n",
      "PROGRESS: | 2367         | 5.4e+07 | 41          | 2.02s        |\n",
      "PROGRESS: | 3508         | 8.1e+07 | 60.75       | 3.02s        |\n",
      "PROGRESS: | 4669         | 1.1e+08 | 81          | 4.02s        |\n",
      "PROGRESS: | 5635         | 1.3e+08 | 97.75       | 5.02s        |\n",
      "PROGRESS: | Done         |         | 100         | 5.36s        |\n",
      "PROGRESS: +--------------+---------+-------------+--------------+\n",
      "{'confusion_matrix': Columns:\n",
      "\ttarget_label\tstr\n",
      "\tpredicted_label\tstr\n",
      "\tcount\tint\n",
      "\n",
      "Rows: 33\n",
      "\n",
      "Data:\n",
      "+--------------+-----------------+-------+\n",
      "| target_label | predicted_label | count |\n",
      "+--------------+-----------------+-------+\n",
      "|    wilde     |      austen     |  229  |\n",
      "|    austen    |   shakespeare   |   9   |\n",
      "|    austen    |      twain      |   69  |\n",
      "|    twain     |      twain      |  798  |\n",
      "|    austen    |      doyle      |  128  |\n",
      "|    austen    |      wilde      |  200  |\n",
      "|    twain     |   shakespeare   |   30  |\n",
      "|     poe      |   shakespeare   |   2   |\n",
      "| shakespeare  |      doyle      |   40  |\n",
      "|    twain     |      doyle      |  123  |\n",
      "+--------------+-----------------+-------+\n",
      "[33 rows x 3 columns]\n",
      "Note: Only the head of the SFrame is printed.\n",
      "You can use print_rows(num_rows=m, num_columns=n) to print more rows and columns., 'accuracy': 0.6308386872720958}\n",
      "Starting nearest neighbors model construction...\n",
      "PROGRESS: Starting to query\n",
      "PROGRESS: +--------------+---------+-------------+--------------+\n",
      "PROGRESS: | Query points | # Pairs | % Complete. | Elapsed Time |\n",
      "PROGRESS: +--------------+---------+-------------+--------------+\n",
      "PROGRESS: | 0            | 5677    | 0           | 27.495ms     |\n",
      "PROGRESS: | 1015         | 2.3e+07 | 17.75       | 1.02s        |\n",
      "PROGRESS: | 2005         | 4.6e+07 | 35.25       | 2.02s        |\n",
      "PROGRESS: | 2951         | 6.8e+07 | 51.75       | 3.02s        |\n",
      "PROGRESS: | 3844         | 8.9e+07 | 67.5        | 4.02s        |\n",
      "PROGRESS: | 4737         | 1.1e+08 | 83.25       | 5.02s        |\n",
      "PROGRESS: | 5509         | 1.3e+08 | 97          | 6.02s        |\n",
      "PROGRESS: | Done         |         | 100         | 6.58s        |\n",
      "PROGRESS: +--------------+---------+-------------+--------------+\n",
      "{'confusion_matrix': Columns:\n",
      "\ttarget_label\tstr\n",
      "\tpredicted_label\tstr\n",
      "\tcount\tint\n",
      "\n",
      "Rows: 36\n",
      "\n",
      "Data:\n",
      "+--------------+-----------------+-------+\n",
      "| target_label | predicted_label | count |\n",
      "+--------------+-----------------+-------+\n",
      "|    austen    |   shakespeare   |   6   |\n",
      "|    doyle     |       poe       |   8   |\n",
      "|    austen    |      twain      |   81  |\n",
      "|    twain     |      twain      |  750  |\n",
      "|    austen    |      doyle      |  106  |\n",
      "|    austen    |      wilde      |  189  |\n",
      "|    twain     |   shakespeare   |   41  |\n",
      "|     poe      |   shakespeare   |   4   |\n",
      "| shakespeare  |      austen     |   63  |\n",
      "|    wilde     |      twain      |   98  |\n",
      "+--------------+-----------------+-------+\n",
      "[36 rows x 3 columns]\n",
      "Note: Only the head of the SFrame is printed.\n",
      "You can use print_rows(num_rows=m, num_columns=n) to print more rows and columns., 'accuracy': 0.6399506781750924}\n",
      "Starting nearest neighbors model construction...\n",
      "PROGRESS: Starting to query\n",
      "PROGRESS: +--------------+---------+-------------+--------------+\n",
      "PROGRESS: | Query points | # Pairs | % Complete. | Elapsed Time |\n",
      "PROGRESS: +--------------+---------+-------------+--------------+\n",
      "PROGRESS: | 0            | 5789    | 0           | 26.376ms     |\n",
      "PROGRESS: | 1307         | 3e+07   | 22.5        | 1.02s        |\n",
      "PROGRESS: | 2472         | 5.7e+07 | 42.5        | 2.02s        |\n",
      "PROGRESS: | 3558         | 8.2e+07 | 61.25       | 3.02s        |\n",
      "PROGRESS: | 4817         | 1.1e+08 | 83          | 4.02s        |\n",
      "PROGRESS: | 5771         | 1.3e+08 | 99.5        | 5.02s        |\n",
      "PROGRESS: | Done         |         | 100         | 5.13s        |\n",
      "PROGRESS: +--------------+---------+-------------+--------------+\n",
      "{'confusion_matrix': Columns:\n",
      "\ttarget_label\tstr\n",
      "\tpredicted_label\tstr\n",
      "\tcount\tint\n",
      "\n",
      "Rows: 36\n",
      "\n",
      "Data:\n",
      "+--------------+-----------------+-------+\n",
      "| target_label | predicted_label | count |\n",
      "+--------------+-----------------+-------+\n",
      "|    austen    |      twain      |  137  |\n",
      "|    twain     |      twain      |  1009 |\n",
      "|    austen    |      doyle      |   47  |\n",
      "| shakespeare  |       poe       |   1   |\n",
      "|    twain     |       poe       |   16  |\n",
      "| shakespeare  |      austen     |   94  |\n",
      "|    wilde     |      twain      |  245  |\n",
      "| shakespeare  |      twain      |   95  |\n",
      "|     poe      |       poe       |   9   |\n",
      "|    twain     |      austen     |  178  |\n",
      "+--------------+-----------------+-------+\n",
      "[36 rows x 3 columns]\n",
      "Note: Only the head of the SFrame is printed.\n",
      "You can use print_rows(num_rows=m, num_columns=n) to print more rows and columns., 'accuracy': 0.607877008118846}\n"
     ]
    }
   ],
   "source": [
    "distances = ['squared_euclidean', 'manhattan', 'jaccard', 'weighted_jaccard', 'cosine','dot_product']\n",
    "for i in distances:\n",
    "\n",
    "    train, val = sf_train.random_split(0.8)\n",
    "    F = ['uni','bi','tri']\n",
    "    m = gl.nearest_neighbor_classifier.create(train, target='Author',features=F, distance=i, verbose=True)\n",
    "\n",
    "    print m.evaluate(val)\n",
    "\n"
   ]
  },
  {
   "cell_type": "markdown",
   "metadata": {},
   "source": [
    "# Submit Kaggle"
   ]
  },
  {
   "cell_type": "code",
   "execution_count": 214,
   "metadata": {
    "collapsed": false
   },
   "outputs": [],
   "source": [
    "m.save(folder +'/gl_GBT')"
   ]
  },
  {
   "cell_type": "code",
   "execution_count": null,
   "metadata": {
    "collapsed": false
   },
   "outputs": [],
   "source": []
  },
  {
   "cell_type": "code",
   "execution_count": 53,
   "metadata": {
    "collapsed": true
   },
   "outputs": [],
   "source": [
    "y_pred = m.predict(sf_test)"
   ]
  },
  {
   "cell_type": "code",
   "execution_count": null,
   "metadata": {
    "collapsed": false
   },
   "outputs": [],
   "source": []
  },
  {
   "cell_type": "code",
   "execution_count": 55,
   "metadata": {
    "collapsed": false
   },
   "outputs": [],
   "source": [
    "submit = gl.SFrame()\n",
    "submit['id']=sf_test['Id']\n",
    "submit['label']=y_pred"
   ]
  },
  {
   "cell_type": "code",
   "execution_count": null,
   "metadata": {
    "collapsed": false
   },
   "outputs": [],
   "source": []
  },
  {
   "cell_type": "code",
   "execution_count": 56,
   "metadata": {
    "collapsed": false
   },
   "outputs": [],
   "source": [
    "submit.save(folder + '/results/out1.csv', format='csv')"
   ]
  },
  {
   "cell_type": "code",
   "execution_count": null,
   "metadata": {
    "collapsed": false
   },
   "outputs": [],
   "source": []
  },
  {
   "cell_type": "code",
   "execution_count": null,
   "metadata": {
    "collapsed": true
   },
   "outputs": [],
   "source": []
  }
 ],
 "metadata": {
  "kernelspec": {
   "display_name": "Python 2",
   "language": "python",
   "name": "python2"
  },
  "language_info": {
   "codemirror_mode": {
    "name": "ipython",
    "version": 2
   },
   "file_extension": ".py",
   "mimetype": "text/x-python",
   "name": "python",
   "nbconvert_exporter": "python",
   "pygments_lexer": "ipython2",
   "version": "2.7.6"
  }
 },
 "nbformat": 4,
 "nbformat_minor": 0
}
