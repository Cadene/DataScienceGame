{
 "cells": [
  {
   "cell_type": "code",
   "execution_count": 8,
   "metadata": {
    "collapsed": false
   },
   "outputs": [
    {
     "name": "stdout",
     "output_type": "stream",
     "text": [
      "FAST BLAS\n",
      "version: 1.8.2\n",
      "maxint: 9223372036854775807\n",
      "\n",
      "dot: 0.114219808578 sec\n"
     ]
    }
   ],
   "source": [
    "#!/usr/bin/env python                                                           \n",
    "import numpy\n",
    "import sys\n",
    "import timeit\n",
    " \n",
    "try:\n",
    "    import numpy.core._dotblas\n",
    "    print 'FAST BLAS'\n",
    "except ImportError:\n",
    "    print 'slow blas'\n",
    " \n",
    "print \"version:\", numpy.__version__\n",
    "print \"maxint:\", sys.maxint\n",
    "print\n",
    " \n",
    "x = numpy.random.random((1000,1000))\n",
    " \n",
    "setup = \"import numpy; x = numpy.random.random((1000,1000))\"\n",
    "count = 5\n",
    " \n",
    "t = timeit.Timer(\"numpy.dot(x, x.T)\", setup=setup)\n",
    "print \"dot:\", t.timeit(count)/count, \"sec\""
   ]
  },
  {
   "cell_type": "code",
   "execution_count": null,
   "metadata": {
    "collapsed": true
   },
   "outputs": [],
   "source": []
  }
 ],
 "metadata": {
  "kernelspec": {
   "display_name": "Python 2",
   "language": "python",
   "name": "python2"
  },
  "language_info": {
   "codemirror_mode": {
    "name": "ipython",
    "version": 2
   },
   "file_extension": ".py",
   "mimetype": "text/x-python",
   "name": "python",
   "nbconvert_exporter": "python",
   "pygments_lexer": "ipython2",
   "version": "2.7.6"
  }
 },
 "nbformat": 4,
 "nbformat_minor": 0
}
