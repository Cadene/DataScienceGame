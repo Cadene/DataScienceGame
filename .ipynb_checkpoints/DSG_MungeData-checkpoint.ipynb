{
 "cells": [
  {
   "cell_type": "markdown",
   "metadata": {},
   "source": [
    "# Importing and Transforming raw DATA"
   ]
  },
  {
   "cell_type": "code",
   "execution_count": 103,
   "metadata": {
    "collapsed": false
   },
   "outputs": [
    {
     "name": "stdout",
     "output_type": "stream",
     "text": [
      "/home/arda/Documents/youtube\n"
     ]
    }
   ],
   "source": [
    "import numpy as np\n",
    "import pandas as pd\n",
    "import os\n",
    "from nltk.tokenize import RegexpTokenizer\n",
    "from nltk.stem import *\n",
    "\n",
    "folder = os.getcwd() ; print folder"
   ]
  },
  {
   "cell_type": "code",
   "execution_count": 179,
   "metadata": {
    "collapsed": false
   },
   "outputs": [
    {
     "data": {
      "text/plain": [
       "Index([u'video_category_id', u'title', u'description', u'published_at',\n",
       "       u'viewCount', u'likeCount', u'dislikeCount', u'commentCount',\n",
       "       u'duration', u'dimension', u'definition', u'caption',\n",
       "       u'licensedContent', u'topicIds', u'relevantTopicIds'],\n",
       "      dtype='object')"
      ]
     },
     "execution_count": 179,
     "metadata": {},
     "output_type": "execute_result"
    }
   ],
   "source": [
    "train_df.columns"
   ]
  },
  {
   "cell_type": "code",
   "execution_count": 181,
   "metadata": {
    "collapsed": false
   },
   "outputs": [
    {
     "data": {
      "text/plain": [
       "Index([u'video_category_id', u'title', u'description', u'published_at',\n",
       "       u'viewCount', u'likeCount', u'dislikeCount', u'favoriteCount',\n",
       "       u'commentCount', u'duration', u'dimension', u'definition', u'caption',\n",
       "       u'licensedContent', u'topicIds', u'relevantTopicIds'],\n",
       "      dtype='object')"
      ]
     },
     "execution_count": 181,
     "metadata": {},
     "output_type": "execute_result"
    }
   ],
   "source": [
    "train_df.columns"
   ]
  },
  {
   "cell_type": "code",
   "execution_count": 262,
   "metadata": {
    "collapsed": false
   },
   "outputs": [
    {
     "name": "stderr",
     "output_type": "stream",
     "text": [
      "Skipping line 23582: expected 16 fields, saw 17\n",
      "Skipping line 27178: expected 16 fields, saw 17\n",
      "\n"
     ]
    }
   ],
   "source": [
    "train_df = pd.read_csv('./data/train_sample.csv',sep=\",\", header=0, escapechar='\\\\',\n",
    "                       quotechar='\"', error_bad_lines=False, encoding=None)\n",
    "\n",
    "train_df.drop(u'favoriteCount',1).columns\n",
    "train_df = train_df.fillna('')\n",
    "l_digit_col = [u'viewCount',u'likeCount', u'dislikeCount', u'commentCount']"
   ]
  },
  {
   "cell_type": "code",
   "execution_count": 263,
   "metadata": {
    "collapsed": false
   },
   "outputs": [
    {
     "name": "stdout",
     "output_type": "stream",
     "text": [
      "viewCount\n",
      "likeCount\n",
      "dislikeCount\n",
      "commentCount\n",
      "viewCount\n",
      "likeCount\n",
      "dislikeCount\n",
      "commentCount\n"
     ]
    }
   ],
   "source": [
    "for col in l_digit_col:\n",
    "    print col\n",
    "    train_df[col] =train_df[col].apply(lambda r: int(r) if str(r).isdigit() else -1 )\n",
    "\n",
    "for col in l_digit_col:\n",
    "    print col\n",
    "    mean = train_df[col].median()\n",
    "    train_df[col] = train_df[col].apply(lambda r: mean if r==-1 else r )"
   ]
  },
  {
   "cell_type": "code",
   "execution_count": 100,
   "metadata": {
    "collapsed": false
   },
   "outputs": [],
   "source": [
    "#strip accent\n",
    "from unidecode import unidecode\n",
    "\n",
    "def stripaccent(dataframe):\n",
    "    print \"removing accent...\"\n",
    "    train_df['title'] = train_df['title'].apply(lambda r: unidecode( unicode(r,'utf-8')))\n",
    "    train_df['description'] = train_df['description'].apply(lambda r: unidecode( unicode(r,'utf-8')))\n",
    "    return dataframe"
   ]
  },
  {
   "cell_type": "code",
   "execution_count": 102,
   "metadata": {
    "collapsed": false
   },
   "outputs": [],
   "source": [
    "#Stemming sentences\n",
    "from nltk import PorterStemmer\n",
    "stemmer = PorterStemmer()\n",
    "\n",
    "def stemming(dataframe):\n",
    "    print \"stemming...\"\n",
    "    dataframe['title'].apply(lambda r: ' '.join([stemmer.stem(word) for word in r.split(\" \")]) )\n",
    "    dataframe['description'].apply(lambda r: ' '.join([stemmer.stem(word) for word in r.split(\" \")]) )\n",
    "    return dataframe\n",
    "    \n",
    "    "
   ]
  },
  {
   "cell_type": "code",
   "execution_count": null,
   "metadata": {
    "collapsed": true
   },
   "outputs": [],
   "source": []
  }
 ],
 "metadata": {
  "kernelspec": {
   "display_name": "Python 2",
   "language": "python",
   "name": "python2"
  },
  "language_info": {
   "codemirror_mode": {
    "name": "ipython",
    "version": 2
   },
   "file_extension": ".py",
   "mimetype": "text/x-python",
   "name": "python",
   "nbconvert_exporter": "python",
   "pygments_lexer": "ipython2",
   "version": "2.7.6"
  }
 },
 "nbformat": 4,
 "nbformat_minor": 0
}
