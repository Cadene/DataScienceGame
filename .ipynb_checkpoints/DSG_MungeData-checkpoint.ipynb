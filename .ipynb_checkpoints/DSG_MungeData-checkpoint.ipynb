{
 "cells": [
  {
   "cell_type": "markdown",
   "metadata": {},
   "source": [
    "# Importing and Transforming raw DATA"
   ]
  },
  {
   "cell_type": "code",
   "execution_count": 1,
   "metadata": {
    "collapsed": true
   },
   "outputs": [],
   "source": [
    "# -*- coding: utf-8 -*-\n",
    "\n",
    "import pandas as pd\n",
    "import numpy as np\n",
    "import re\n",
    "import time\n",
    "import os\n",
    "import datetime\n",
    "from dateutil import parser"
   ]
  },
  {
   "cell_type": "code",
   "execution_count": 15,
   "metadata": {
    "collapsed": false
   },
   "outputs": [
    {
     "name": "stderr",
     "output_type": "stream",
     "text": [
      "Skipping line 23582: expected 16 fields, saw 17\n",
      "Skipping line 27178: expected 16 fields, saw 17\n",
      "\n"
     ]
    }
   ],
   "source": [
    "train_df = pd.read_csv('./data/train_sample.csv',sep=\",\", header=0, escapechar='\\\\', quotechar='\"',\n",
    "                       error_bad_lines=False, low_memory= False)"
   ]
  },
  {
   "cell_type": "code",
   "execution_count": 16,
   "metadata": {
    "collapsed": false
   },
   "outputs": [
    {
     "data": {
      "text/plain": [
       "Index([u'video_category_id', u'title', u'description', u'published_at',\n",
       "       u'viewCount', u'likeCount', u'dislikeCount', u'favoriteCount',\n",
       "       u'commentCount', u'duration', u'dimension', u'definition', u'caption',\n",
       "       u'licensedContent', u'topicIds', u'relevantTopicIds'],\n",
       "      dtype='object')"
      ]
     },
     "execution_count": 16,
     "metadata": {},
     "output_type": "execute_result"
    }
   ],
   "source": [
    "train_df.columns"
   ]
  },
  {
   "cell_type": "code",
   "execution_count": 17,
   "metadata": {
    "collapsed": false
   },
   "outputs": [],
   "source": [
    "train_df = train_df[train_df[u'published_at'].apply(lambda r: len(r))==24]\n",
    "train_df[u'published_at']=train_df[u'published_at'].apply(lambda r: parser.parse(r[:19]))"
   ]
  },
  {
   "cell_type": "code",
   "execution_count": null,
   "metadata": {
    "collapsed": false
   },
   "outputs": [],
   "source": []
  },
  {
   "cell_type": "code",
   "execution_count": 19,
   "metadata": {
    "collapsed": false
   },
   "outputs": [],
   "source": []
  },
  {
   "cell_type": "code",
   "execution_count": null,
   "metadata": {
    "collapsed": false
   },
   "outputs": [],
   "source": []
  },
  {
   "cell_type": "code",
   "execution_count": 34,
   "metadata": {
    "collapsed": false
   },
   "outputs": [],
   "source": [
    "# tools \n",
    "def isNaN(num):\n",
    "    return num != num\n",
    "\n",
    "# exemple\n",
    "# duration2sec(\"P1DT1H15M33S\")\n",
    "def duration2sec(duration):\n",
    "\tif duration ==None:\n",
    "\t\treturn -1.\n",
    "\tsec = 0.\n",
    "\tduration_regex = \"P(([0-9]+)D)?T(([0-9]+)H)?(([0-9]+)M)?(([0-9]+)S)?\"\n",
    "\tmatch = re.findall(duration_regex, duration)\n",
    "\tif len(match) != 1 or len(match[0]) != 8:\n",
    "\t\tprint \"Error: {}\", duration\n",
    "\t\treturn -1.\n",
    "\tmatch = match[0]\n",
    "\tif match[1]: # day\n",
    "\t\tday = int(match[1])\n",
    "\t\tsec += day * 86400\n",
    "\tif match[3]: # hour\n",
    "\t\thour = int(match[3])\n",
    "\t\tsec += hour * 3600\n",
    "\tif match[5]: # min\n",
    "\t\tminu = int(match[5])\n",
    "\t\tsec += minu * 60\n",
    "\tif match[7]: # sec\n",
    "\t\tseco = int(match[7])\n",
    "\t\tsec += seco\n",
    "\treturn sec"
   ]
  },
  {
   "cell_type": "code",
   "execution_count": null,
   "metadata": {
    "collapsed": false,
    "scrolled": true
   },
   "outputs": [],
   "source": []
  },
  {
   "cell_type": "code",
   "execution_count": 120,
   "metadata": {
    "collapsed": false
   },
   "outputs": [],
   "source": [
    "def duration2sec(r):\n",
    "    \n",
    "    out = r.replace('S','').replace('M',';').replace('PT','').replace('H',';')\n",
    "    l = out.split(';')\n",
    "    \n",
    "    if l[1].isdigit():\n",
    "        duration = l=[0]\n",
    "    else:\n",
    "        duration=0\n",
    "        \n",
    "    \n",
    "    return duration\n",
    "    "
   ]
  },
  {
   "cell_type": "code",
   "execution_count": 131,
   "metadata": {
    "collapsed": false
   },
   "outputs": [],
   "source": [
    " #+ 3600.*l[1] + 60.*l[2]\n",
    "a = train_df['duration'].apply(lambda r: 1 if re.findall('M', r) else 0)"
   ]
  },
  {
   "cell_type": "code",
   "execution_count": 132,
   "metadata": {
    "collapsed": false
   },
   "outputs": [
    {
     "data": {
      "text/plain": [
       "237742"
      ]
     },
     "execution_count": 132,
     "metadata": {},
     "output_type": "execute_result"
    }
   ],
   "source": [
    "a.sum()"
   ]
  },
  {
   "cell_type": "code",
   "execution_count": 133,
   "metadata": {
    "collapsed": true
   },
   "outputs": [],
   "source": [
    " #+ 3600.*l[1] + 60.*l[2]\n",
    "a = train_df['duration'].apply(lambda r: 1 if re.findall('S', r) else 0)"
   ]
  },
  {
   "cell_type": "code",
   "execution_count": null,
   "metadata": {
    "collapsed": false
   },
   "outputs": [],
   "source": []
  },
  {
   "cell_type": "code",
   "execution_count": null,
   "metadata": {
    "collapsed": true
   },
   "outputs": [],
   "source": []
  }
 ],
 "metadata": {
  "kernelspec": {
   "display_name": "Python 2",
   "language": "python",
   "name": "python2"
  },
  "language_info": {
   "codemirror_mode": {
    "name": "ipython",
    "version": 2
   },
   "file_extension": ".py",
   "mimetype": "text/x-python",
   "name": "python",
   "nbconvert_exporter": "python",
   "pygments_lexer": "ipython2",
   "version": "2.7.6"
  }
 },
 "nbformat": 4,
 "nbformat_minor": 0
}
