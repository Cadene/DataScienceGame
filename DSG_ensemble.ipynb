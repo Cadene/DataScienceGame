{
 "cells": [
  {
   "cell_type": "markdown",
   "metadata": {},
   "source": [
    "# DSG: ENSEMBLE"
   ]
  },
  {
   "cell_type": "code",
   "execution_count": 41,
   "metadata": {
    "collapsed": false
   },
   "outputs": [
    {
     "name": "stdout",
     "output_type": "stream",
     "text": [
      "/home/arda/Documents/youtube\n"
     ]
    }
   ],
   "source": [
    "import numpy as np\n",
    "import pandas as pd\n",
    "import os\n",
    "\n",
    "from sklearn.pipeline import Pipeline, FeatureUnion\n",
    "from sklearn.grid_search import GridSearchCV\n",
    "from sklearn.feature_extraction.text import CountVectorizer, TfidfTransformer\n",
    "from sklearn.ensemble import AdaBoostClassifier, RandomForestClassifier, ExtraTreesClassifier, BaggingClassifier\n",
    "from sklearn.base import BaseEstimator, TransformerMixin\n",
    "from sklearn.metrics import confusion_matrix\n",
    "from sklearn.cross_validation import cross_val_score, train_test_split,StratifiedKFold, StratifiedShuffleSplit\n",
    "from sklearn.preprocessing import StandardScaler\n",
    "from lib_DSG import ColumnSelector, DenseTransformer\n",
    "folder = os.getcwd() ; print folder"
   ]
  },
  {
   "cell_type": "code",
   "execution_count": 68,
   "metadata": {
    "collapsed": true
   },
   "outputs": [],
   "source": [
    "pd_train = pd.read_csv('./data/train_sample_munged.csv', header=0, escapechar='\\\\', quotechar='\"', low_memory=False)\n",
    "pd_test = pd.read_csv('./data/test_sample_munged.csv', header=0, escapechar='\\\\', quotechar='\"', low_memory=False)"
   ]
  },
  {
   "cell_type": "code",
   "execution_count": 70,
   "metadata": {
    "collapsed": false
   },
   "outputs": [
    {
     "data": {
      "text/plain": [
       "0         ['/m/010jjr', '/m/01zx_2', '/m/09b3v', '/m/01j...\n",
       "1                                  ['/m/015j7', '/m/06bvp']\n",
       "2         ['/m/09b3v', '/m/03tmlz', '/m/0166ls', '/m/04l...\n",
       "3                                  ['/m/04rlf', '/m/06cvx']\n",
       "4                    ['/m/06q74', '/m/07nrkh', '/m/04lm2k']\n",
       "5         ['/m/01chg', '/m/01gq53', '/m/081hv', '/m/02mt...\n",
       "6         ['/m/07bsy', '/m/03x9c7', '/m/03rk0', '/m/07yv...\n",
       "7                     ['/m/031y2', '/m/03rjj', '/m/04lm2k']\n",
       "8         ['/m/014dsx', '/m/04lm2k', '/m/07bxq', '/m/02p...\n",
       "9         ['/m/07gyp7', '/m/033cnk', '/m/02wbm', '/m/02v...\n",
       "10                    ['/m/02988_', '/m/05qt0', '/m/05h0n']\n",
       "11        ['/m/010jjr', '/m/03npn', '/m/054k0', '/m/0158...\n",
       "12                  ['/m/01f4cc', '/m/01b6qt', '/m/01767_']\n",
       "13                                                       []\n",
       "14        ['/m/010jjr', '/m/03nqyt', '/m/040fsb', '/m/0g...\n",
       "15                                ['/m/026t6', '/m/04lm2k']\n",
       "16                   ['/m/07dfk', '/m/01z1m1x', '/m/01r2l']\n",
       "17        ['/m/06_4g', '/m/055skk', '/m/0f6wh8', '/m/05q...\n",
       "18                       ['/m/0vg8', '/m/03rj0', '/m/0k5j']\n",
       "19        ['/m/019jd', '/m/0hsrw', '/m/0jp31', '/m/06q74...\n",
       "20                   ['/m/014dsx', '/m/01n32', '/m/04lm2k']\n",
       "21        ['/m/09b1k', '/m/02fzs', '/m/025sh5p', '/m/0fl...\n",
       "22                   ['/m/04rh6b', '/m/01b9xk', '/m/07r04']\n",
       "23        ['/m/0ybf7r9', '/m/04rlf', '/m/04mn81', '/m/07...\n",
       "24        ['/m/09cjl', '/m/0k5j', '/m/0vg8', '/m/018rl2'...\n",
       "25                                             ['/m/05qt0']\n",
       "26                                ['/m/07f1x', '/m/0cbx95']\n",
       "27                               ['/m/04lm2k', '/m/0458qd']\n",
       "28        ['/m/0ftp8', '/m/0hr5k', '/m/02wbm', '/m/01d7f7']\n",
       "29                     ['/m/0crjs', '/m/06f32', '/m/02wbm']\n",
       "                                ...                        \n",
       "239195    ['/m/04rlf', '/m/0bs1g5r', '/m/064t9', '/m/0gy...\n",
       "239196    ['/m/01mw1', '/m/0hgnzjh', '/m/02hk9c', '/m/03...\n",
       "239197    ['/m/01mw1', '/m/01z747', '/m/02x9hs', '/m/02d...\n",
       "239198               ['/m/01mw1', '/m/03bt1gh', '/m/02jjt']\n",
       "239199    ['/m/0bzvm2', '/m/01mw1', '/m/059wk', '/m/0kym...\n",
       "239200    ['/m/02dpv4', '/m/025vk0g', '/m/03h5s6y', '/m/...\n",
       "239201    ['/m/0bzvm2', '/m/05gg9s', '/m/01bf8r', '/m/0g...\n",
       "239202    ['/m/01mw1', '/m/02ntfj', '/m/04ydf_', '/m/043...\n",
       "239203               ['/m/02dpv4', '/m/0jbk', '/m/03c0ng6']\n",
       "239204    ['/m/01mw1', '/m/024lmx', '/m/02kl0g', '/m/040...\n",
       "239205    ['/m/01mw1', '/m/02kl0g', '/m/0403l3g', '/m/0g...\n",
       "239206    ['/m/0403l3g', '/m/01mw1', '/m/02mz1d', '/m/03...\n",
       "239207    ['/m/01mw1', '/m/02dpv4', '/m/09p5m', '/m/0px9...\n",
       "239208    ['/m/02x9hs', '/m/089m7', '/m/09gltp8', '/m/01...\n",
       "239209    ['/m/0kyqzxz', '/m/0t512fv', '/m/0z8kq1w', '/m...\n",
       "239210    ['/m/024lmx', '/m/0g65_', '/m/01mw1', '/m/03jm...\n",
       "239211    ['/m/01mw1', '/m/0hgnzjh', '/m/03bt1gh', '/m/0...\n",
       "239212             ['/m/03wbl14', '/m/02wxtgw', '/m/01mf0']\n",
       "239213    ['/m/01mw1', '/m/02dpv4', '/m/07_tb', '/m/0j6l...\n",
       "239214    ['/m/02jjt', '/m/03bt1gh', '/m/03fwl', '/m/01m...\n",
       "239215                           ['/m/0403l3g', '/m/0g65_']\n",
       "239216                          ['/m/04rh6b', '/m/03bt1gh']\n",
       "239217    ['/m/02dpv4', '/m/0722qs', '/m/03bt1gh', '/m/0...\n",
       "239218    ['/m/01mw1', '/m/02kl0g', '/m/0g65_', '/m/024l...\n",
       "239219    ['/m/04rlf', '/m/0dl567', '/m/0qjt3kn', '/m/0g...\n",
       "239220    ['/m/0169zh', '/m/03wbl14', '/m/01mw1', '/m/09...\n",
       "239221              ['/m/024lmx', '/m/0g65_', '/m/0403l3g']\n",
       "239222    ['/m/04rlf', '/m/0nhyyyk', '/m/074ft', '/m/09v...\n",
       "239223              ['/m/02dpv4', '/m/03bt1gh', '/m/03fpg']\n",
       "239224    ['/m/01mw1', '/m/02mz1d', '/m/0403l3g', '/m/03...\n",
       "Name: relevantTopicIds, dtype: object"
      ]
     },
     "execution_count": 70,
     "metadata": {},
     "output_type": "execute_result"
    }
   ],
   "source": [
    "pd_train['relevantTopicIds'].apply(lambda r: str(r)"
   ]
  },
  {
   "cell_type": "code",
   "execution_count": 66,
   "metadata": {
    "collapsed": false
   },
   "outputs": [
    {
     "ename": "KeyError",
     "evalue": "'relevantTopicIds'",
     "output_type": "error",
     "traceback": [
      "\u001b[1;31m---------------------------------------------------------------------------\u001b[0m",
      "\u001b[1;31mKeyError\u001b[0m                                  Traceback (most recent call last)",
      "\u001b[1;32m<ipython-input-66-15339382b1fc>\u001b[0m in \u001b[0;36m<module>\u001b[1;34m()\u001b[0m\n\u001b[0;32m      1\u001b[0m \u001b[0mpd_train\u001b[0m \u001b[1;33m=\u001b[0m \u001b[0mpd_train\u001b[0m\u001b[1;33m[\u001b[0m\u001b[1;34m'topicIds'\u001b[0m\u001b[1;33m]\u001b[0m\u001b[1;33m.\u001b[0m\u001b[0mapply\u001b[0m\u001b[1;33m(\u001b[0m\u001b[1;32mlambda\u001b[0m \u001b[0mr\u001b[0m\u001b[1;33m:\u001b[0m \u001b[1;34m\"\"\u001b[0m\u001b[1;33m.\u001b[0m\u001b[0mjoin\u001b[0m\u001b[1;33m(\u001b[0m\u001b[0mr\u001b[0m\u001b[1;33m)\u001b[0m\u001b[1;33m.\u001b[0m\u001b[0mreplace\u001b[0m\u001b[1;33m(\u001b[0m\u001b[1;34m\"[\"\u001b[0m\u001b[1;33m,\u001b[0m\u001b[1;34m''\u001b[0m\u001b[1;33m)\u001b[0m\u001b[1;33m.\u001b[0m\u001b[0mreplace\u001b[0m\u001b[1;33m(\u001b[0m\u001b[1;34m\"]\"\u001b[0m\u001b[1;33m,\u001b[0m\u001b[1;34m\"\"\u001b[0m\u001b[1;33m)\u001b[0m\u001b[1;33m)\u001b[0m\u001b[1;33m\u001b[0m\u001b[0m\n\u001b[1;32m----> 2\u001b[1;33m \u001b[0mpd_train\u001b[0m \u001b[1;33m=\u001b[0m \u001b[0mpd_train\u001b[0m\u001b[1;33m[\u001b[0m\u001b[1;34m'relevantTopicIds'\u001b[0m\u001b[1;33m]\u001b[0m\u001b[1;33m.\u001b[0m\u001b[0mapply\u001b[0m\u001b[1;33m(\u001b[0m\u001b[1;32mlambda\u001b[0m \u001b[0mr\u001b[0m\u001b[1;33m:\u001b[0m \u001b[1;34m\"\"\u001b[0m\u001b[1;33m.\u001b[0m\u001b[0mjoin\u001b[0m\u001b[1;33m(\u001b[0m\u001b[0mr\u001b[0m\u001b[1;33m)\u001b[0m\u001b[1;33m.\u001b[0m\u001b[0mreplace\u001b[0m\u001b[1;33m(\u001b[0m\u001b[1;34m\"[\"\u001b[0m\u001b[1;33m,\u001b[0m\u001b[1;34m''\u001b[0m\u001b[1;33m)\u001b[0m\u001b[1;33m.\u001b[0m\u001b[0mreplace\u001b[0m\u001b[1;33m(\u001b[0m\u001b[1;34m\"]\"\u001b[0m\u001b[1;33m,\u001b[0m\u001b[1;34m\"\"\u001b[0m\u001b[1;33m)\u001b[0m\u001b[1;33m)\u001b[0m\u001b[1;33m\u001b[0m\u001b[0m\n\u001b[0m",
      "\u001b[1;32m/usr/local/lib/python2.7/dist-packages/pandas/core/series.pyc\u001b[0m in \u001b[0;36m__getitem__\u001b[1;34m(self, key)\u001b[0m\n\u001b[0;32m    519\u001b[0m     \u001b[1;32mdef\u001b[0m \u001b[0m__getitem__\u001b[0m\u001b[1;33m(\u001b[0m\u001b[0mself\u001b[0m\u001b[1;33m,\u001b[0m \u001b[0mkey\u001b[0m\u001b[1;33m)\u001b[0m\u001b[1;33m:\u001b[0m\u001b[1;33m\u001b[0m\u001b[0m\n\u001b[0;32m    520\u001b[0m         \u001b[1;32mtry\u001b[0m\u001b[1;33m:\u001b[0m\u001b[1;33m\u001b[0m\u001b[0m\n\u001b[1;32m--> 521\u001b[1;33m             \u001b[0mresult\u001b[0m \u001b[1;33m=\u001b[0m \u001b[0mself\u001b[0m\u001b[1;33m.\u001b[0m\u001b[0mindex\u001b[0m\u001b[1;33m.\u001b[0m\u001b[0mget_value\u001b[0m\u001b[1;33m(\u001b[0m\u001b[0mself\u001b[0m\u001b[1;33m,\u001b[0m \u001b[0mkey\u001b[0m\u001b[1;33m)\u001b[0m\u001b[1;33m\u001b[0m\u001b[0m\n\u001b[0m\u001b[0;32m    522\u001b[0m \u001b[1;33m\u001b[0m\u001b[0m\n\u001b[0;32m    523\u001b[0m             \u001b[1;32mif\u001b[0m \u001b[1;32mnot\u001b[0m \u001b[0mnp\u001b[0m\u001b[1;33m.\u001b[0m\u001b[0misscalar\u001b[0m\u001b[1;33m(\u001b[0m\u001b[0mresult\u001b[0m\u001b[1;33m)\u001b[0m\u001b[1;33m:\u001b[0m\u001b[1;33m\u001b[0m\u001b[0m\n",
      "\u001b[1;32m/usr/local/lib/python2.7/dist-packages/pandas/core/index.pyc\u001b[0m in \u001b[0;36mget_value\u001b[1;34m(self, series, key)\u001b[0m\n\u001b[0;32m   1593\u001b[0m \u001b[1;33m\u001b[0m\u001b[0m\n\u001b[0;32m   1594\u001b[0m         \u001b[1;32mtry\u001b[0m\u001b[1;33m:\u001b[0m\u001b[1;33m\u001b[0m\u001b[0m\n\u001b[1;32m-> 1595\u001b[1;33m             \u001b[1;32mreturn\u001b[0m \u001b[0mself\u001b[0m\u001b[1;33m.\u001b[0m\u001b[0m_engine\u001b[0m\u001b[1;33m.\u001b[0m\u001b[0mget_value\u001b[0m\u001b[1;33m(\u001b[0m\u001b[0ms\u001b[0m\u001b[1;33m,\u001b[0m \u001b[0mk\u001b[0m\u001b[1;33m)\u001b[0m\u001b[1;33m\u001b[0m\u001b[0m\n\u001b[0m\u001b[0;32m   1596\u001b[0m         \u001b[1;32mexcept\u001b[0m \u001b[0mKeyError\u001b[0m \u001b[1;32mas\u001b[0m \u001b[0me1\u001b[0m\u001b[1;33m:\u001b[0m\u001b[1;33m\u001b[0m\u001b[0m\n\u001b[0;32m   1597\u001b[0m             \u001b[1;32mif\u001b[0m \u001b[0mlen\u001b[0m\u001b[1;33m(\u001b[0m\u001b[0mself\u001b[0m\u001b[1;33m)\u001b[0m \u001b[1;33m>\u001b[0m \u001b[1;36m0\u001b[0m \u001b[1;32mand\u001b[0m \u001b[0mself\u001b[0m\u001b[1;33m.\u001b[0m\u001b[0minferred_type\u001b[0m \u001b[1;32min\u001b[0m \u001b[1;33m[\u001b[0m\u001b[1;34m'integer'\u001b[0m\u001b[1;33m,\u001b[0m\u001b[1;34m'boolean'\u001b[0m\u001b[1;33m]\u001b[0m\u001b[1;33m:\u001b[0m\u001b[1;33m\u001b[0m\u001b[0m\n",
      "\u001b[1;32mpandas/index.pyx\u001b[0m in \u001b[0;36mpandas.index.IndexEngine.get_value (pandas/index.c:3113)\u001b[1;34m()\u001b[0m\n",
      "\u001b[1;32mpandas/index.pyx\u001b[0m in \u001b[0;36mpandas.index.IndexEngine.get_value (pandas/index.c:2844)\u001b[1;34m()\u001b[0m\n",
      "\u001b[1;32mpandas/index.pyx\u001b[0m in \u001b[0;36mpandas.index.IndexEngine.get_loc (pandas/index.c:3761)\u001b[1;34m()\u001b[0m\n",
      "\u001b[1;31mKeyError\u001b[0m: 'relevantTopicIds'"
     ]
    }
   ],
   "source": [
    "pd_train = pd_train['topicIds'].apply(lambda r: \"\".join(r).replace(\"[\",'').replace(\"]\",\"\"))\n",
    "pd_train = pd_train['relevantTopicIds'].apply(lambda r: \"\".join(r).replace(\"[\",'').replace(\"]\",\"\"))"
   ]
  },
  {
   "cell_type": "markdown",
   "metadata": {},
   "source": [
    "# Simple model"
   ]
  },
  {
   "cell_type": "code",
   "execution_count": 49,
   "metadata": {
    "collapsed": false
   },
   "outputs": [],
   "source": [
    "extra = ExtraTreesClassifier(n_estimators=10, criterion='gini', max_depth=None, min_samples_split=2, min_samples_leaf=1,\n",
    "                     min_weight_fraction_leaf=0.0, max_features='auto', max_leaf_nodes=None,\n",
    "                     bootstrap=False, oob_score=False, n_jobs=1, random_state=None, verbose=0, \n",
    "                     warm_start=False, class_weight=None)\n",
    "\n",
    "bag = BaggingClassifier(base_estimator=None, n_estimators=10, max_samples=1.0, max_features=1.0, bootstrap=True,\n",
    "                  bootstrap_features=False, oob_score=False, n_jobs=1, random_state=None, verbose=0)\n",
    "\n",
    "ada = AdaBoostClassifier(base_estimator=None, n_estimators=200, learning_rate=0.3, algorithm='SAMME.R', \n",
    "                         random_state=None)\n",
    "\n",
    "rf= RandomForestClassifier(n_estimators=10)\n",
    "\n",
    "clf = rf"
   ]
  },
  {
   "cell_type": "code",
   "execution_count": 50,
   "metadata": {
    "collapsed": true
   },
   "outputs": [],
   "source": [
    "features = [u'viewCount', u'likeCount', u'dislikeCount', u'favoriteCount',\n",
    "       u'commentCount', u'duration', u'caption',\n",
    "       u'licensedContent', u'dimension_2d', u'dimension_3d', u'definition_hd', u'definition_sd']"
   ]
  },
  {
   "cell_type": "code",
   "execution_count": 51,
   "metadata": {
    "collapsed": false
   },
   "outputs": [],
   "source": [
    "Y = pd_train[u'video_category_id'].values\n",
    "X = pd_train[features]"
   ]
  },
  {
   "cell_type": "code",
   "execution_count": 46,
   "metadata": {
    "collapsed": false
   },
   "outputs": [],
   "source": [
    "alphas= [0]"
   ]
  },
  {
   "cell_type": "code",
   "execution_count": 52,
   "metadata": {
    "collapsed": false
   },
   "outputs": [
    {
     "name": "stdout",
     "output_type": "stream",
     "text": [
      "SSS: acc: 0.2922, std: 0.0020, alpha: 0\n"
     ]
    }
   ],
   "source": [
    "results=[]\n",
    "for i in alphas:\n",
    "    #clf.alpha = i\n",
    "\n",
    "    sss = StratifiedShuffleSplit(Y, 10, test_size=0.2, random_state=0)\n",
    "    scores_sss = cross_val_score(clf, X, Y,scoring='accuracy',cv=sss, n_jobs=-1)\n",
    "\n",
    "    print (\"SSS: acc: %0.4f, std: %0.4f, alpha: %s\" %(scores_sss.mean(), scores_sss.std(), i))"
   ]
  },
  {
   "cell_type": "code",
   "execution_count": null,
   "metadata": {
    "collapsed": true
   },
   "outputs": [],
   "source": []
  },
  {
   "cell_type": "code",
   "execution_count": null,
   "metadata": {
    "collapsed": true
   },
   "outputs": [],
   "source": []
  },
  {
   "cell_type": "code",
   "execution_count": null,
   "metadata": {
    "collapsed": true
   },
   "outputs": [],
   "source": []
  },
  {
   "cell_type": "code",
   "execution_count": null,
   "metadata": {
    "collapsed": true
   },
   "outputs": [],
   "source": [
    "dico_pattern={'match_lowercase_only':'\\\\b[a-z]+\\\\b',\n",
    "              'match_word':'\\\\w{1,}',\n",
    "              'match_word1': '(?u)\\\\b\\\\w+\\\\b',\n",
    "              'match_word_punct': '\\w+|[,.?!;]',\n",
    "              'match_NNP': '\\\\b[A-Z][a-z]+\\\\b|\\\\b[A-Z]+\\\\b',\n",
    "              'match_punct': \"[,.?!;'-]\"\n",
    "             }\n",
    "tfv_title = TfidfVectorizer(lowercase=True, stop_words='english', token_pattern=dico_pattern[\"match_word1\"], \n",
    "                      ngram_range=(1, 2), max_df=1.0, min_df=5, max_features=None, \n",
    "                      vocabulary=None, binary=True, norm=u'l2', \n",
    "                      use_idf=True, smooth_idf=True, sublinear_tf=True)\n",
    "\n",
    "tfv_desc = TfidfVectorizer(lowercase=True, stop_words='english', token_pattern=dico_pattern[\"match_word1\"], \n",
    "                      ngram_range=(1, 2), max_df=1.0, min_df=5, max_features=None, \n",
    "                      vocabulary=None, binary=True, norm=u'l2', \n",
    "                      use_idf=True, smooth_idf=True, sublinear_tf=True)\n",
    "\n",
    "clf = MultinomialNB(alpha=0.05, fit_prior=True, class_prior=None)\n",
    "\n",
    "title_pipe = make_pipeline(ColumnSelector(key='title'), tfv_title)\n",
    "desc_pipe = make_pipeline(ColumnSelector(key='description'), tfv_desc)\n",
    "\n",
    "pipeline = make_union(title_pipe, desc_pipe)"
   ]
  },
  {
   "cell_type": "code",
   "execution_count": null,
   "metadata": {
    "collapsed": true
   },
   "outputs": [],
   "source": []
  },
  {
   "cell_type": "code",
   "execution_count": 11,
   "metadata": {
    "collapsed": false
   },
   "outputs": [
    {
     "data": {
      "text/plain": [
       "Index([u'video_category_id', u'title', u'description', u'published_at',\n",
       "       u'viewCount', u'likeCount', u'dislikeCount', u'favoriteCount',\n",
       "       u'commentCount', u'duration', u'dimension', u'definition', u'caption',\n",
       "       u'licensedContent', u'topicIds', u'relevantTopicIds', u'dimension_2d',\n",
       "       u'dimension_3d', u'definition_hd', u'definition_sd'],\n",
       "      dtype='object')"
      ]
     },
     "execution_count": 11,
     "metadata": {},
     "output_type": "execute_result"
    }
   ],
   "source": []
  },
  {
   "cell_type": "code",
   "execution_count": null,
   "metadata": {
    "collapsed": true
   },
   "outputs": [],
   "source": []
  },
  {
   "cell_type": "code",
   "execution_count": null,
   "metadata": {
    "collapsed": true
   },
   "outputs": [],
   "source": []
  }
 ],
 "metadata": {
  "kernelspec": {
   "display_name": "Python 2",
   "language": "python",
   "name": "python2"
  },
  "language_info": {
   "codemirror_mode": {
    "name": "ipython",
    "version": 2
   },
   "file_extension": ".py",
   "mimetype": "text/x-python",
   "name": "python",
   "nbconvert_exporter": "python",
   "pygments_lexer": "ipython2",
   "version": "2.7.6"
  }
 },
 "nbformat": 4,
 "nbformat_minor": 0
}
